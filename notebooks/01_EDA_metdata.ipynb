{
 "cells": [
  {
   "cell_type": "code",
   "execution_count": 1,
   "metadata": {},
   "outputs": [],
   "source": [
    "# Ignore warnings\n",
    "import warnings\n",
    "warnings.filterwarnings(action='ignore')\n",
    "\n",
    "# ----------------- Classics -------------------- #\n",
    "import numpy as np\n",
    "import pandas as pd\n",
    "\n",
    "# ------------------- Plotting ------------------- #\n",
    "import matplotlib.pyplot as plt\n",
    "plt.style.use('fivethirtyeight')\n",
    "\n",
    "# ---------------- Pandas settings --------------- #\n",
    "# Removes rows and columns truncation of '...'\n",
    "pd.set_option('display.max_rows', None)\n",
    "pd.set_option('display.max_columns', None)\n",
    "\n",
    "# ------------------- Python libs ---------------- #\n",
    "import os, sys, re\n",
    "from pathlib import Path\n",
    "ROOT_PATH = Path().resolve().parent\n",
    "sys.path.append(str(ROOT_PATH)) # Add folder root path\n",
    "METADATA_PATH = Path('../data/CORD-19/CORD-19/metadata.csv')\n",
    "\n",
    "from tqdm import tqdm\n",
    "tqdm.pandas()"
   ]
  },
  {
   "cell_type": "markdown",
   "metadata": {},
   "source": [
    "## I. Load data"
   ]
  },
  {
   "cell_type": "code",
   "execution_count": 2,
   "metadata": {},
   "outputs": [
    {
     "name": "stdout",
     "output_type": "stream",
     "text": [
      "cord_uid,sha,source_x,title,doi,pmcid,pubmed_id,license,abstract,publish_time,authors,journal,mag_id,who_covidence_id,arxiv_id,pdf_json_files,pmc_json_files,url,s2_id\n"
     ]
    }
   ],
   "source": [
    "!head -n 1 ../data/CORD-19/CORD-19/metadata.csv"
   ]
  },
  {
   "cell_type": "markdown",
   "metadata": {},
   "source": [
    "Out all the columns we only want - `cord_uid`, `title`, & `abstract` to build index on and `source_x`, `publish_time` and `journal` to understand how data is distributed. "
   ]
  },
  {
   "cell_type": "code",
   "execution_count": 3,
   "metadata": {},
   "outputs": [
    {
     "data": {
      "text/html": [
       "<div>\n",
       "<style scoped>\n",
       "    .dataframe tbody tr th:only-of-type {\n",
       "        vertical-align: middle;\n",
       "    }\n",
       "\n",
       "    .dataframe tbody tr th {\n",
       "        vertical-align: top;\n",
       "    }\n",
       "\n",
       "    .dataframe thead th {\n",
       "        text-align: right;\n",
       "    }\n",
       "</style>\n",
       "<table border=\"1\" class=\"dataframe\">\n",
       "  <thead>\n",
       "    <tr style=\"text-align: right;\">\n",
       "      <th></th>\n",
       "      <th>cord_uid</th>\n",
       "      <th>title</th>\n",
       "      <th>abstract</th>\n",
       "      <th>source_x</th>\n",
       "      <th>publish_time</th>\n",
       "      <th>journal</th>\n",
       "    </tr>\n",
       "  </thead>\n",
       "  <tbody>\n",
       "    <tr>\n",
       "      <th>0</th>\n",
       "      <td>ug7v899j</td>\n",
       "      <td>Clinical features of culture-proven Mycoplasma...</td>\n",
       "      <td>OBJECTIVE: This retrospective chart review des...</td>\n",
       "      <td>PMC</td>\n",
       "      <td>2001-07-04</td>\n",
       "      <td>BMC Infect Dis</td>\n",
       "    </tr>\n",
       "    <tr>\n",
       "      <th>1</th>\n",
       "      <td>02tnwd4m</td>\n",
       "      <td>Nitric oxide: a pro-inflammatory mediator in l...</td>\n",
       "      <td>Inflammatory diseases of the respiratory tract...</td>\n",
       "      <td>PMC</td>\n",
       "      <td>2000-08-15</td>\n",
       "      <td>Respir Res</td>\n",
       "    </tr>\n",
       "    <tr>\n",
       "      <th>2</th>\n",
       "      <td>ejv2xln0</td>\n",
       "      <td>Surfactant protein-D and pulmonary host defense</td>\n",
       "      <td>Surfactant protein-D (SP-D) participates in th...</td>\n",
       "      <td>PMC</td>\n",
       "      <td>2000-08-25</td>\n",
       "      <td>Respir Res</td>\n",
       "    </tr>\n",
       "    <tr>\n",
       "      <th>3</th>\n",
       "      <td>2b73a28n</td>\n",
       "      <td>Role of endothelin-1 in lung disease</td>\n",
       "      <td>Endothelin-1 (ET-1) is a 21 amino acid peptide...</td>\n",
       "      <td>PMC</td>\n",
       "      <td>2001-02-22</td>\n",
       "      <td>Respir Res</td>\n",
       "    </tr>\n",
       "    <tr>\n",
       "      <th>4</th>\n",
       "      <td>9785vg6d</td>\n",
       "      <td>Gene expression in epithelial cells in respons...</td>\n",
       "      <td>Respiratory syncytial virus (RSV) and pneumoni...</td>\n",
       "      <td>PMC</td>\n",
       "      <td>2001-05-11</td>\n",
       "      <td>Respir Res</td>\n",
       "    </tr>\n",
       "  </tbody>\n",
       "</table>\n",
       "</div>"
      ],
      "text/plain": [
       "   cord_uid                                              title  \\\n",
       "0  ug7v899j  Clinical features of culture-proven Mycoplasma...   \n",
       "1  02tnwd4m  Nitric oxide: a pro-inflammatory mediator in l...   \n",
       "2  ejv2xln0    Surfactant protein-D and pulmonary host defense   \n",
       "3  2b73a28n               Role of endothelin-1 in lung disease   \n",
       "4  9785vg6d  Gene expression in epithelial cells in respons...   \n",
       "\n",
       "                                            abstract source_x publish_time  \\\n",
       "0  OBJECTIVE: This retrospective chart review des...      PMC   2001-07-04   \n",
       "1  Inflammatory diseases of the respiratory tract...      PMC   2000-08-15   \n",
       "2  Surfactant protein-D (SP-D) participates in th...      PMC   2000-08-25   \n",
       "3  Endothelin-1 (ET-1) is a 21 amino acid peptide...      PMC   2001-02-22   \n",
       "4  Respiratory syncytial virus (RSV) and pneumoni...      PMC   2001-05-11   \n",
       "\n",
       "          journal  \n",
       "0  BMC Infect Dis  \n",
       "1      Respir Res  \n",
       "2      Respir Res  \n",
       "3      Respir Res  \n",
       "4      Respir Res  "
      ]
     },
     "execution_count": 3,
     "metadata": {},
     "output_type": "execute_result"
    }
   ],
   "source": [
    "def read_csv_strip(fpath, columns_to_keep=[], date_columns=[], index_col=None):\n",
    "    \n",
    "    df = pd.read_csv(fpath, quotechar='\"', parse_dates=date_columns, index_col=index_col, low_memory=False)\n",
    "    # keep needed columns\n",
    "    df = df[columns_to_keep]\n",
    "    # for each column\n",
    "    for col in df.columns:\n",
    "        # check if the columns contains string data\n",
    "        if pd.api.types.is_string_dtype(df[col]):\n",
    "            df[col] = df[col].str.strip() # removes front and end white spaces\n",
    "            df[col] = df[col].str.replace('\\s{2,}', ' ') # remove double or more white spaces\n",
    "    df = df.replace({\"\":np.nan}) # if there remained only empty string \"\", change to Nan\n",
    "    return df\n",
    "\n",
    "\n",
    "columns_to_keep = ['cord_uid', 'title', 'abstract', 'source_x', 'publish_time', 'journal']\n",
    "date_columns = ['publish_time']\n",
    "\n",
    "metadata = read_csv_strip(METADATA_PATH, columns_to_keep=columns_to_keep, date_columns=date_columns)\n",
    "metadata.head()"
   ]
  },
  {
   "cell_type": "markdown",
   "metadata": {},
   "source": [
    "## II. Pre-process"
   ]
  },
  {
   "cell_type": "markdown",
   "metadata": {},
   "source": [
    "### a. Verify data type\n"
   ]
  },
  {
   "cell_type": "code",
   "execution_count": 4,
   "metadata": {},
   "outputs": [
    {
     "name": "stdout",
     "output_type": "stream",
     "text": [
      "<class 'pandas.core.frame.DataFrame'>\n",
      "RangeIndex: 128492 entries, 0 to 128491\n",
      "Data columns (total 6 columns):\n",
      " #   Column        Non-Null Count   Dtype         \n",
      "---  ------        --------------   -----         \n",
      " 0   cord_uid      128492 non-null  object        \n",
      " 1   title         128464 non-null  object        \n",
      " 2   abstract      101611 non-null  object        \n",
      " 3   source_x      128492 non-null  object        \n",
      " 4   publish_time  128477 non-null  datetime64[ns]\n",
      " 5   journal       122195 non-null  object        \n",
      "dtypes: datetime64[ns](1), object(5)\n",
      "memory usage: 5.9+ MB\n"
     ]
    }
   ],
   "source": [
    "metadata.info()"
   ]
  },
  {
   "cell_type": "markdown",
   "metadata": {},
   "source": [
    "In total dataset is ~ 6 MB in size which is much easier to process compared to incorporating full-text data and total of 128,000 documents in the dataset."
   ]
  },
  {
   "cell_type": "markdown",
   "metadata": {},
   "source": [
    "### b. Check missing values"
   ]
  },
  {
   "cell_type": "code",
   "execution_count": 5,
   "metadata": {},
   "outputs": [
    {
     "data": {
      "text/plain": [
       "cord_uid         0.000000\n",
       "title            0.021791\n",
       "abstract        20.920369\n",
       "source_x         0.000000\n",
       "publish_time     0.011674\n",
       "journal          4.900694\n",
       "dtype: float64"
      ]
     },
     "execution_count": 5,
     "metadata": {},
     "output_type": "execute_result"
    }
   ],
   "source": [
    "(metadata.isnull().sum() / metadata.shape[0]) * 100"
   ]
  },
  {
   "cell_type": "markdown",
   "metadata": {},
   "source": [
    "`abstract` is missing in most documents along with `title`, so it's better to create another column with `title+abstract` and drop those documents that are missing both of them. But let's first fill missing values with empty string in `title` and `abstract` and drop rows that have length min. length of title."
   ]
  },
  {
   "cell_type": "code",
   "execution_count": 6,
   "metadata": {},
   "outputs": [
    {
     "data": {
      "text/plain": [
       "cord_uid        0.000000\n",
       "title           0.000000\n",
       "abstract        0.000000\n",
       "source_x        0.000000\n",
       "publish_time    0.011674\n",
       "journal         4.900694\n",
       "dtype: float64"
      ]
     },
     "execution_count": 6,
     "metadata": {},
     "output_type": "execute_result"
    }
   ],
   "source": [
    "metadata = metadata.fillna({'title': '', 'abstract': ''})\n",
    "(metadata.isnull().sum() / metadata.shape[0]) * 100"
   ]
  },
  {
   "cell_type": "code",
   "execution_count": 7,
   "metadata": {},
   "outputs": [
    {
     "data": {
      "text/html": [
       "<div>\n",
       "<style scoped>\n",
       "    .dataframe tbody tr th:only-of-type {\n",
       "        vertical-align: middle;\n",
       "    }\n",
       "\n",
       "    .dataframe tbody tr th {\n",
       "        vertical-align: top;\n",
       "    }\n",
       "\n",
       "    .dataframe thead th {\n",
       "        text-align: right;\n",
       "    }\n",
       "</style>\n",
       "<table border=\"1\" class=\"dataframe\">\n",
       "  <thead>\n",
       "    <tr style=\"text-align: right;\">\n",
       "      <th></th>\n",
       "      <th>cord_uid</th>\n",
       "      <th>title</th>\n",
       "      <th>abstract</th>\n",
       "      <th>source_x</th>\n",
       "      <th>publish_time</th>\n",
       "      <th>journal</th>\n",
       "      <th>title+abstract</th>\n",
       "    </tr>\n",
       "  </thead>\n",
       "  <tbody>\n",
       "    <tr>\n",
       "      <th>0</th>\n",
       "      <td>ug7v899j</td>\n",
       "      <td>Clinical features of culture-proven Mycoplasma...</td>\n",
       "      <td>OBJECTIVE: This retrospective chart review des...</td>\n",
       "      <td>PMC</td>\n",
       "      <td>2001-07-04</td>\n",
       "      <td>BMC Infect Dis</td>\n",
       "      <td>Clinical features of culture-proven Mycoplasma...</td>\n",
       "    </tr>\n",
       "    <tr>\n",
       "      <th>1</th>\n",
       "      <td>02tnwd4m</td>\n",
       "      <td>Nitric oxide: a pro-inflammatory mediator in l...</td>\n",
       "      <td>Inflammatory diseases of the respiratory tract...</td>\n",
       "      <td>PMC</td>\n",
       "      <td>2000-08-15</td>\n",
       "      <td>Respir Res</td>\n",
       "      <td>Nitric oxide: a pro-inflammatory mediator in l...</td>\n",
       "    </tr>\n",
       "    <tr>\n",
       "      <th>2</th>\n",
       "      <td>ejv2xln0</td>\n",
       "      <td>Surfactant protein-D and pulmonary host defense</td>\n",
       "      <td>Surfactant protein-D (SP-D) participates in th...</td>\n",
       "      <td>PMC</td>\n",
       "      <td>2000-08-25</td>\n",
       "      <td>Respir Res</td>\n",
       "      <td>Surfactant protein-D and pulmonary host defens...</td>\n",
       "    </tr>\n",
       "    <tr>\n",
       "      <th>3</th>\n",
       "      <td>2b73a28n</td>\n",
       "      <td>Role of endothelin-1 in lung disease</td>\n",
       "      <td>Endothelin-1 (ET-1) is a 21 amino acid peptide...</td>\n",
       "      <td>PMC</td>\n",
       "      <td>2001-02-22</td>\n",
       "      <td>Respir Res</td>\n",
       "      <td>Role of endothelin-1 in lung disease Endotheli...</td>\n",
       "    </tr>\n",
       "    <tr>\n",
       "      <th>4</th>\n",
       "      <td>9785vg6d</td>\n",
       "      <td>Gene expression in epithelial cells in respons...</td>\n",
       "      <td>Respiratory syncytial virus (RSV) and pneumoni...</td>\n",
       "      <td>PMC</td>\n",
       "      <td>2001-05-11</td>\n",
       "      <td>Respir Res</td>\n",
       "      <td>Gene expression in epithelial cells in respons...</td>\n",
       "    </tr>\n",
       "  </tbody>\n",
       "</table>\n",
       "</div>"
      ],
      "text/plain": [
       "   cord_uid                                              title  \\\n",
       "0  ug7v899j  Clinical features of culture-proven Mycoplasma...   \n",
       "1  02tnwd4m  Nitric oxide: a pro-inflammatory mediator in l...   \n",
       "2  ejv2xln0    Surfactant protein-D and pulmonary host defense   \n",
       "3  2b73a28n               Role of endothelin-1 in lung disease   \n",
       "4  9785vg6d  Gene expression in epithelial cells in respons...   \n",
       "\n",
       "                                            abstract source_x publish_time  \\\n",
       "0  OBJECTIVE: This retrospective chart review des...      PMC   2001-07-04   \n",
       "1  Inflammatory diseases of the respiratory tract...      PMC   2000-08-15   \n",
       "2  Surfactant protein-D (SP-D) participates in th...      PMC   2000-08-25   \n",
       "3  Endothelin-1 (ET-1) is a 21 amino acid peptide...      PMC   2001-02-22   \n",
       "4  Respiratory syncytial virus (RSV) and pneumoni...      PMC   2001-05-11   \n",
       "\n",
       "          journal                                     title+abstract  \n",
       "0  BMC Infect Dis  Clinical features of culture-proven Mycoplasma...  \n",
       "1      Respir Res  Nitric oxide: a pro-inflammatory mediator in l...  \n",
       "2      Respir Res  Surfactant protein-D and pulmonary host defens...  \n",
       "3      Respir Res  Role of endothelin-1 in lung disease Endotheli...  \n",
       "4      Respir Res  Gene expression in epithelial cells in respons...  "
      ]
     },
     "execution_count": 7,
     "metadata": {},
     "output_type": "execute_result"
    }
   ],
   "source": [
    "metadata['title+abstract'] = metadata['title'] + ' ' + metadata['abstract']\n",
    "metadata.head()"
   ]
  },
  {
   "cell_type": "code",
   "execution_count": 8,
   "metadata": {},
   "outputs": [
    {
     "data": {
      "text/plain": [
       "count    128492.000000\n",
       "mean       1170.048369\n",
       "std         953.268327\n",
       "min           1.000000\n",
       "25%         514.000000\n",
       "50%        1238.000000\n",
       "75%        1737.000000\n",
       "max      122459.000000\n",
       "Name: title+abstract, dtype: float64"
      ]
     },
     "execution_count": 8,
     "metadata": {},
     "output_type": "execute_result"
    }
   ],
   "source": [
    "metadata['title+abstract'].str.len().describe()"
   ]
  },
  {
   "cell_type": "markdown",
   "metadata": {},
   "source": [
    "We can see min. length for both `title+abstract` column is 1 which are missing values for both columns, thus it is safe to drop those, while median length is ~ 1k and max. length is ~ 12k words."
   ]
  },
  {
   "cell_type": "code",
   "execution_count": 9,
   "metadata": {},
   "outputs": [
    {
     "data": {
      "text/plain": [
       "count    128492.000000\n",
       "mean         93.554898\n",
       "std          42.033980\n",
       "min           0.000000\n",
       "25%          64.000000\n",
       "50%          90.000000\n",
       "75%         119.000000\n",
       "max         469.000000\n",
       "Name: title, dtype: float64"
      ]
     },
     "execution_count": 9,
     "metadata": {},
     "output_type": "execute_result"
    }
   ],
   "source": [
    "metadata['title'].str.len().describe()"
   ]
  },
  {
   "cell_type": "code",
   "execution_count": 10,
   "metadata": {},
   "outputs": [
    {
     "data": {
      "text/plain": [
       "count    128492.000000\n",
       "mean       1075.493470\n",
       "std         939.997251\n",
       "min           0.000000\n",
       "25%         434.000000\n",
       "50%        1142.000000\n",
       "75%        1628.000000\n",
       "max      122392.000000\n",
       "Name: abstract, dtype: float64"
      ]
     },
     "execution_count": 10,
     "metadata": {},
     "output_type": "execute_result"
    }
   ],
   "source": [
    "metadata['abstract'].str.len().describe()"
   ]
  },
  {
   "cell_type": "markdown",
   "metadata": {},
   "source": [
    "Comparing `title` and `abstract`, most Title are about 90 words in length and Abstract's are ~ 1k in length. So combinging both of them should provide better coverage for retrieval system.\n",
    "\n",
    "Let's now drop the rows that are missing both `title` and `abstract`."
   ]
  },
  {
   "cell_type": "code",
   "execution_count": 11,
   "metadata": {},
   "outputs": [
    {
     "data": {
      "text/html": [
       "<div>\n",
       "<style scoped>\n",
       "    .dataframe tbody tr th:only-of-type {\n",
       "        vertical-align: middle;\n",
       "    }\n",
       "\n",
       "    .dataframe tbody tr th {\n",
       "        vertical-align: top;\n",
       "    }\n",
       "\n",
       "    .dataframe thead th {\n",
       "        text-align: right;\n",
       "    }\n",
       "</style>\n",
       "<table border=\"1\" class=\"dataframe\">\n",
       "  <thead>\n",
       "    <tr style=\"text-align: right;\">\n",
       "      <th></th>\n",
       "      <th>cord_uid</th>\n",
       "      <th>title</th>\n",
       "      <th>abstract</th>\n",
       "      <th>source_x</th>\n",
       "      <th>publish_time</th>\n",
       "      <th>journal</th>\n",
       "      <th>title+abstract</th>\n",
       "    </tr>\n",
       "  </thead>\n",
       "  <tbody>\n",
       "    <tr>\n",
       "      <th>44953</th>\n",
       "      <td>jlucw365</td>\n",
       "      <td></td>\n",
       "      <td></td>\n",
       "      <td>Medline</td>\n",
       "      <td>2018-01-01</td>\n",
       "      <td>Der Chirurg; Zeitschrift fur alle Gebiete der ...</td>\n",
       "      <td></td>\n",
       "    </tr>\n",
       "    <tr>\n",
       "      <th>44337</th>\n",
       "      <td>jui6jw60</td>\n",
       "      <td></td>\n",
       "      <td></td>\n",
       "      <td>Medline</td>\n",
       "      <td>2020-05-05</td>\n",
       "      <td>Tidsskrift for den Norske laegeforening : tids...</td>\n",
       "      <td></td>\n",
       "    </tr>\n",
       "    <tr>\n",
       "      <th>55251</th>\n",
       "      <td>89gdvp9b</td>\n",
       "      <td></td>\n",
       "      <td></td>\n",
       "      <td>Medline</td>\n",
       "      <td>2016-01-01</td>\n",
       "      <td>Jornal vascular brasileiro</td>\n",
       "      <td></td>\n",
       "    </tr>\n",
       "    <tr>\n",
       "      <th>45984</th>\n",
       "      <td>qsflkeku</td>\n",
       "      <td></td>\n",
       "      <td></td>\n",
       "      <td>Medline</td>\n",
       "      <td>2020-04-09</td>\n",
       "      <td>Laryngo- rhino- otologie</td>\n",
       "      <td></td>\n",
       "    </tr>\n",
       "    <tr>\n",
       "      <th>55042</th>\n",
       "      <td>ho8y52ml</td>\n",
       "      <td></td>\n",
       "      <td></td>\n",
       "      <td>Medline</td>\n",
       "      <td>2020-03-31</td>\n",
       "      <td>Laryngo- rhino- otologie</td>\n",
       "      <td></td>\n",
       "    </tr>\n",
       "    <tr>\n",
       "      <th>26599</th>\n",
       "      <td>d8um2u8n</td>\n",
       "      <td></td>\n",
       "      <td></td>\n",
       "      <td>Medline</td>\n",
       "      <td>2020-05-05</td>\n",
       "      <td>Tidsskrift for den Norske laegeforening : tids...</td>\n",
       "      <td></td>\n",
       "    </tr>\n",
       "    <tr>\n",
       "      <th>45861</th>\n",
       "      <td>xae7fzph</td>\n",
       "      <td></td>\n",
       "      <td></td>\n",
       "      <td>Medline</td>\n",
       "      <td>2018-01-01</td>\n",
       "      <td>Der Chirurg; Zeitschrift fur alle Gebiete der ...</td>\n",
       "      <td></td>\n",
       "    </tr>\n",
       "    <tr>\n",
       "      <th>56337</th>\n",
       "      <td>fey0ejcq</td>\n",
       "      <td></td>\n",
       "      <td></td>\n",
       "      <td>Medline</td>\n",
       "      <td>2020-05-05</td>\n",
       "      <td>Tidsskrift for den Norske laegeforening : tids...</td>\n",
       "      <td></td>\n",
       "    </tr>\n",
       "    <tr>\n",
       "      <th>51296</th>\n",
       "      <td>q9z4grhy</td>\n",
       "      <td></td>\n",
       "      <td></td>\n",
       "      <td>Medline</td>\n",
       "      <td>2020-05-05</td>\n",
       "      <td>Tidsskrift for den Norske laegeforening : tids...</td>\n",
       "      <td></td>\n",
       "    </tr>\n",
       "    <tr>\n",
       "      <th>40155</th>\n",
       "      <td>4x5dsxas</td>\n",
       "      <td></td>\n",
       "      <td></td>\n",
       "      <td>Medline</td>\n",
       "      <td>2020-05-05</td>\n",
       "      <td>Tidsskrift for den Norske laegeforening : tids...</td>\n",
       "      <td></td>\n",
       "    </tr>\n",
       "  </tbody>\n",
       "</table>\n",
       "</div>"
      ],
      "text/plain": [
       "       cord_uid title abstract source_x publish_time  \\\n",
       "44953  jlucw365                 Medline   2018-01-01   \n",
       "44337  jui6jw60                 Medline   2020-05-05   \n",
       "55251  89gdvp9b                 Medline   2016-01-01   \n",
       "45984  qsflkeku                 Medline   2020-04-09   \n",
       "55042  ho8y52ml                 Medline   2020-03-31   \n",
       "26599  d8um2u8n                 Medline   2020-05-05   \n",
       "45861  xae7fzph                 Medline   2018-01-01   \n",
       "56337  fey0ejcq                 Medline   2020-05-05   \n",
       "51296  q9z4grhy                 Medline   2020-05-05   \n",
       "40155  4x5dsxas                 Medline   2020-05-05   \n",
       "\n",
       "                                                 journal title+abstract  \n",
       "44953  Der Chirurg; Zeitschrift fur alle Gebiete der ...                 \n",
       "44337  Tidsskrift for den Norske laegeforening : tids...                 \n",
       "55251                         Jornal vascular brasileiro                 \n",
       "45984                           Laryngo- rhino- otologie                 \n",
       "55042                           Laryngo- rhino- otologie                 \n",
       "26599  Tidsskrift for den Norske laegeforening : tids...                 \n",
       "45861  Der Chirurg; Zeitschrift fur alle Gebiete der ...                 \n",
       "56337  Tidsskrift for den Norske laegeforening : tids...                 \n",
       "51296  Tidsskrift for den Norske laegeforening : tids...                 \n",
       "40155  Tidsskrift for den Norske laegeforening : tids...                 "
      ]
     },
     "execution_count": 11,
     "metadata": {},
     "output_type": "execute_result"
    }
   ],
   "source": [
    "metadata[metadata['title+abstract'].str.len() < 2].sample(10, random_state=0)"
   ]
  },
  {
   "cell_type": "markdown",
   "metadata": {},
   "source": [
    "Looks like above missing rows come from european journals that publish in their native language. Since the goal is not to do Cross-Language IR we can safely drop them now."
   ]
  },
  {
   "cell_type": "code",
   "execution_count": 12,
   "metadata": {},
   "outputs": [
    {
     "data": {
      "text/plain": [
       "count    128469.000000\n",
       "mean       1170.257665\n",
       "std         953.225299\n",
       "min           4.000000\n",
       "25%         514.000000\n",
       "50%        1239.000000\n",
       "75%        1737.000000\n",
       "max      122459.000000\n",
       "Name: title+abstract, dtype: float64"
      ]
     },
     "execution_count": 12,
     "metadata": {},
     "output_type": "execute_result"
    }
   ],
   "source": [
    "metadata = metadata[~(metadata['title+abstract'].str.len() < 2)]\n",
    "metadata.reset_index(drop=True, inplace=True)\n",
    "metadata['title+abstract'].str.len().describe()"
   ]
  },
  {
   "cell_type": "markdown",
   "metadata": {},
   "source": [
    "### c) Filter `title+abstract` rows with duplicated and text length < 15 words"
   ]
  },
  {
   "cell_type": "markdown",
   "metadata": {},
   "source": [
    "Let's now count the total number of words per `title+abstract` document as it will help us further filter down unnecessary documents that don't contain any necessary information. "
   ]
  },
  {
   "cell_type": "code",
   "execution_count": 13,
   "metadata": {},
   "outputs": [
    {
     "name": "stderr",
     "output_type": "stream",
     "text": [
      "100%|██████████| 128469/128469 [00:01<00:00, 85199.57it/s]\n"
     ]
    },
    {
     "data": {
      "text/html": [
       "<div>\n",
       "<style scoped>\n",
       "    .dataframe tbody tr th:only-of-type {\n",
       "        vertical-align: middle;\n",
       "    }\n",
       "\n",
       "    .dataframe tbody tr th {\n",
       "        vertical-align: top;\n",
       "    }\n",
       "\n",
       "    .dataframe thead th {\n",
       "        text-align: right;\n",
       "    }\n",
       "</style>\n",
       "<table border=\"1\" class=\"dataframe\">\n",
       "  <thead>\n",
       "    <tr style=\"text-align: right;\">\n",
       "      <th></th>\n",
       "      <th>cord_uid</th>\n",
       "      <th>title</th>\n",
       "      <th>abstract</th>\n",
       "      <th>source_x</th>\n",
       "      <th>publish_time</th>\n",
       "      <th>journal</th>\n",
       "      <th>title+abstract</th>\n",
       "      <th>title+abstract_wc</th>\n",
       "    </tr>\n",
       "  </thead>\n",
       "  <tbody>\n",
       "    <tr>\n",
       "      <th>0</th>\n",
       "      <td>ug7v899j</td>\n",
       "      <td>Clinical features of culture-proven Mycoplasma...</td>\n",
       "      <td>OBJECTIVE: This retrospective chart review des...</td>\n",
       "      <td>PMC</td>\n",
       "      <td>2001-07-04</td>\n",
       "      <td>BMC Infect Dis</td>\n",
       "      <td>Clinical features of culture-proven Mycoplasma...</td>\n",
       "      <td>277</td>\n",
       "    </tr>\n",
       "    <tr>\n",
       "      <th>1</th>\n",
       "      <td>02tnwd4m</td>\n",
       "      <td>Nitric oxide: a pro-inflammatory mediator in l...</td>\n",
       "      <td>Inflammatory diseases of the respiratory tract...</td>\n",
       "      <td>PMC</td>\n",
       "      <td>2000-08-15</td>\n",
       "      <td>Respir Res</td>\n",
       "      <td>Nitric oxide: a pro-inflammatory mediator in l...</td>\n",
       "      <td>150</td>\n",
       "    </tr>\n",
       "    <tr>\n",
       "      <th>2</th>\n",
       "      <td>ejv2xln0</td>\n",
       "      <td>Surfactant protein-D and pulmonary host defense</td>\n",
       "      <td>Surfactant protein-D (SP-D) participates in th...</td>\n",
       "      <td>PMC</td>\n",
       "      <td>2000-08-25</td>\n",
       "      <td>Respir Res</td>\n",
       "      <td>Surfactant protein-D and pulmonary host defens...</td>\n",
       "      <td>225</td>\n",
       "    </tr>\n",
       "    <tr>\n",
       "      <th>3</th>\n",
       "      <td>2b73a28n</td>\n",
       "      <td>Role of endothelin-1 in lung disease</td>\n",
       "      <td>Endothelin-1 (ET-1) is a 21 amino acid peptide...</td>\n",
       "      <td>PMC</td>\n",
       "      <td>2001-02-22</td>\n",
       "      <td>Respir Res</td>\n",
       "      <td>Role of endothelin-1 in lung disease Endotheli...</td>\n",
       "      <td>74</td>\n",
       "    </tr>\n",
       "    <tr>\n",
       "      <th>4</th>\n",
       "      <td>9785vg6d</td>\n",
       "      <td>Gene expression in epithelial cells in respons...</td>\n",
       "      <td>Respiratory syncytial virus (RSV) and pneumoni...</td>\n",
       "      <td>PMC</td>\n",
       "      <td>2001-05-11</td>\n",
       "      <td>Respir Res</td>\n",
       "      <td>Gene expression in epithelial cells in respons...</td>\n",
       "      <td>120</td>\n",
       "    </tr>\n",
       "  </tbody>\n",
       "</table>\n",
       "</div>"
      ],
      "text/plain": [
       "   cord_uid                                              title  \\\n",
       "0  ug7v899j  Clinical features of culture-proven Mycoplasma...   \n",
       "1  02tnwd4m  Nitric oxide: a pro-inflammatory mediator in l...   \n",
       "2  ejv2xln0    Surfactant protein-D and pulmonary host defense   \n",
       "3  2b73a28n               Role of endothelin-1 in lung disease   \n",
       "4  9785vg6d  Gene expression in epithelial cells in respons...   \n",
       "\n",
       "                                            abstract source_x publish_time  \\\n",
       "0  OBJECTIVE: This retrospective chart review des...      PMC   2001-07-04   \n",
       "1  Inflammatory diseases of the respiratory tract...      PMC   2000-08-15   \n",
       "2  Surfactant protein-D (SP-D) participates in th...      PMC   2000-08-25   \n",
       "3  Endothelin-1 (ET-1) is a 21 amino acid peptide...      PMC   2001-02-22   \n",
       "4  Respiratory syncytial virus (RSV) and pneumoni...      PMC   2001-05-11   \n",
       "\n",
       "          journal                                     title+abstract  \\\n",
       "0  BMC Infect Dis  Clinical features of culture-proven Mycoplasma...   \n",
       "1      Respir Res  Nitric oxide: a pro-inflammatory mediator in l...   \n",
       "2      Respir Res  Surfactant protein-D and pulmonary host defens...   \n",
       "3      Respir Res  Role of endothelin-1 in lung disease Endotheli...   \n",
       "4      Respir Res  Gene expression in epithelial cells in respons...   \n",
       "\n",
       "   title+abstract_wc  \n",
       "0                277  \n",
       "1                150  \n",
       "2                225  \n",
       "3                 74  \n",
       "4                120  "
      ]
     },
     "execution_count": 13,
     "metadata": {},
     "output_type": "execute_result"
    }
   ],
   "source": [
    "metadata['title+abstract_wc'] = metadata['title+abstract'].progress_apply(lambda x: len(x.split()))\n",
    "metadata.head()"
   ]
  },
  {
   "cell_type": "code",
   "execution_count": 14,
   "metadata": {},
   "outputs": [
    {
     "data": {
      "image/png": "[encoded data removed]",
      "text/plain": [
       "<Figure size 720x432 with 1 Axes>"
      ]
     },
     "metadata": {},
     "output_type": "display_data"
    }
   ],
   "source": [
    "plt.figure(figsize=(10, 6))\n",
    "ax = metadata['title+abstract_wc'].value_counts().plot.hist()\n",
    "ax.set_title('Title+Abstract Word Count distribution')\n",
    "ax.set_xlabel('Word Count Length');"
   ]
  },
  {
   "cell_type": "code",
   "execution_count": 15,
   "metadata": {},
   "outputs": [
    {
     "data": {
      "text/plain": [
       "count    128469.000000\n",
       "mean        169.000529\n",
       "std         137.788438\n",
       "min           1.000000\n",
       "25%          73.000000\n",
       "50%         177.000000\n",
       "75%         253.000000\n",
       "max       18010.000000\n",
       "Name: title+abstract_wc, dtype: float64"
      ]
     },
     "execution_count": 15,
     "metadata": {},
     "output_type": "execute_result"
    }
   ],
   "source": [
    "metadata['title+abstract_wc'].describe()"
   ]
  },
  {
   "cell_type": "markdown",
   "metadata": {},
   "source": [
    "#### WC == 1\n",
    "\n",
    "Let's look at those documents that have word count of length 1. "
   ]
  },
  {
   "cell_type": "code",
   "execution_count": 16,
   "metadata": {},
   "outputs": [
    {
     "data": {
      "text/html": [
       "<div>\n",
       "<style scoped>\n",
       "    .dataframe tbody tr th:only-of-type {\n",
       "        vertical-align: middle;\n",
       "    }\n",
       "\n",
       "    .dataframe tbody tr th {\n",
       "        vertical-align: top;\n",
       "    }\n",
       "\n",
       "    .dataframe thead th {\n",
       "        text-align: right;\n",
       "    }\n",
       "</style>\n",
       "<table border=\"1\" class=\"dataframe\">\n",
       "  <thead>\n",
       "    <tr style=\"text-align: right;\">\n",
       "      <th></th>\n",
       "      <th>title+abstract</th>\n",
       "      <th>title+abstract_wc</th>\n",
       "    </tr>\n",
       "  </thead>\n",
       "  <tbody>\n",
       "    <tr>\n",
       "      <th>114760</th>\n",
       "      <td>Verrast</td>\n",
       "      <td>1</td>\n",
       "    </tr>\n",
       "    <tr>\n",
       "      <th>8102</th>\n",
       "      <td>Autopsy</td>\n",
       "      <td>1</td>\n",
       "    </tr>\n",
       "    <tr>\n",
       "      <th>57466</th>\n",
       "      <td>Correction</td>\n",
       "      <td>1</td>\n",
       "    </tr>\n",
       "    <tr>\n",
       "      <th>17061</th>\n",
       "      <td>Anhang</td>\n",
       "      <td>1</td>\n",
       "    </tr>\n",
       "    <tr>\n",
       "      <th>23653</th>\n",
       "      <td>Bronchiolitis</td>\n",
       "      <td>1</td>\n",
       "    </tr>\n",
       "    <tr>\n",
       "      <th>21997</th>\n",
       "      <td>Enteritis</td>\n",
       "      <td>1</td>\n",
       "    </tr>\n",
       "    <tr>\n",
       "      <th>15780</th>\n",
       "      <td>Myokarditis</td>\n",
       "      <td>1</td>\n",
       "    </tr>\n",
       "    <tr>\n",
       "      <th>22910</th>\n",
       "      <td>Proteases</td>\n",
       "      <td>1</td>\n",
       "    </tr>\n",
       "    <tr>\n",
       "      <th>23748</th>\n",
       "      <td>Omslagpunt</td>\n",
       "      <td>1</td>\n",
       "    </tr>\n",
       "    <tr>\n",
       "      <th>18222</th>\n",
       "      <td>Viszeralchirurgie</td>\n",
       "      <td>1</td>\n",
       "    </tr>\n",
       "    <tr>\n",
       "      <th>18100</th>\n",
       "      <td>Gastroenterologie</td>\n",
       "      <td>1</td>\n",
       "    </tr>\n",
       "    <tr>\n",
       "      <th>20616</th>\n",
       "      <td>Hämatologie</td>\n",
       "      <td>1</td>\n",
       "    </tr>\n",
       "    <tr>\n",
       "      <th>14367</th>\n",
       "      <td>MERS-CoV</td>\n",
       "      <td>1</td>\n",
       "    </tr>\n",
       "    <tr>\n",
       "      <th>20942</th>\n",
       "      <td>Actualités</td>\n",
       "      <td>1</td>\n",
       "    </tr>\n",
       "    <tr>\n",
       "      <th>16921</th>\n",
       "      <td>Schnupfenviren</td>\n",
       "      <td>1</td>\n",
       "    </tr>\n",
       "  </tbody>\n",
       "</table>\n",
       "</div>"
      ],
      "text/plain": [
       "            title+abstract  title+abstract_wc\n",
       "114760            Verrast                   1\n",
       "8102              Autopsy                   1\n",
       "57466          Correction                   1\n",
       "17061              Anhang                   1\n",
       "23653       Bronchiolitis                   1\n",
       "21997           Enteritis                   1\n",
       "15780         Myokarditis                   1\n",
       "22910           Proteases                   1\n",
       "23748          Omslagpunt                   1\n",
       "18222   Viszeralchirurgie                   1\n",
       "18100   Gastroenterologie                   1\n",
       "20616         Hämatologie                   1\n",
       "14367            MERS-CoV                   1\n",
       "20942          Actualités                   1\n",
       "16921      Schnupfenviren                   1"
      ]
     },
     "execution_count": 16,
     "metadata": {},
     "output_type": "execute_result"
    }
   ],
   "source": [
    "metadata[(metadata['title+abstract_wc'] == 1)][['title+abstract', 'title+abstract_wc']].sample(15, random_state=0)"
   ]
  },
  {
   "cell_type": "markdown",
   "metadata": {},
   "source": [
    "Given that there is not much information that can match to a query to be able to be retrieved from this documents it's better to drop them. "
   ]
  },
  {
   "cell_type": "code",
   "execution_count": 17,
   "metadata": {},
   "outputs": [
    {
     "data": {
      "text/plain": [
       "count    127945.000000\n",
       "mean        169.688577\n",
       "std         137.649349\n",
       "min           2.000000\n",
       "25%          76.000000\n",
       "50%         178.000000\n",
       "75%         253.000000\n",
       "max       18010.000000\n",
       "Name: title+abstract_wc, dtype: float64"
      ]
     },
     "execution_count": 17,
     "metadata": {},
     "output_type": "execute_result"
    }
   ],
   "source": [
    "metadata = metadata[~(metadata['title+abstract_wc'] < 2)]\n",
    "metadata.reset_index(drop=True, inplace=True)\n",
    "metadata['title+abstract_wc'].describe()"
   ]
  },
  {
   "cell_type": "code",
   "execution_count": 18,
   "metadata": {},
   "outputs": [
    {
     "data": {
      "text/html": [
       "<div>\n",
       "<style scoped>\n",
       "    .dataframe tbody tr th:only-of-type {\n",
       "        vertical-align: middle;\n",
       "    }\n",
       "\n",
       "    .dataframe tbody tr th {\n",
       "        vertical-align: top;\n",
       "    }\n",
       "\n",
       "    .dataframe thead th {\n",
       "        text-align: right;\n",
       "    }\n",
       "</style>\n",
       "<table border=\"1\" class=\"dataframe\">\n",
       "  <thead>\n",
       "    <tr style=\"text-align: right;\">\n",
       "      <th></th>\n",
       "      <th>cord_uid</th>\n",
       "      <th>title</th>\n",
       "      <th>abstract</th>\n",
       "      <th>source_x</th>\n",
       "      <th>publish_time</th>\n",
       "      <th>journal</th>\n",
       "      <th>title+abstract</th>\n",
       "      <th>title+abstract_wc</th>\n",
       "    </tr>\n",
       "  </thead>\n",
       "  <tbody>\n",
       "    <tr>\n",
       "      <th>8197</th>\n",
       "      <td>623yva2l</td>\n",
       "      <td>ICAR 2011: Abstracts</td>\n",
       "      <td></td>\n",
       "      <td>PMC</td>\n",
       "      <td>2011-03-13</td>\n",
       "      <td>Infection</td>\n",
       "      <td>ICAR 2011: Abstracts</td>\n",
       "      <td>3</td>\n",
       "    </tr>\n",
       "    <tr>\n",
       "      <th>43685</th>\n",
       "      <td>bcuivyku</td>\n",
       "      <td>Covid-19 and Namaste.</td>\n",
       "      <td></td>\n",
       "      <td>Medline</td>\n",
       "      <td>2020-04-21</td>\n",
       "      <td>Influenza and other respiratory viruses</td>\n",
       "      <td>Covid-19 and Namaste.</td>\n",
       "      <td>3</td>\n",
       "    </tr>\n",
       "    <tr>\n",
       "      <th>23109</th>\n",
       "      <td>lhpy3d3p</td>\n",
       "      <td>Contents to volume 14</td>\n",
       "      <td></td>\n",
       "      <td>PMC</td>\n",
       "      <td>2002-11-12</td>\n",
       "      <td>J Virol Methods</td>\n",
       "      <td>Contents to volume 14</td>\n",
       "      <td>4</td>\n",
       "    </tr>\n",
       "    <tr>\n",
       "      <th>68611</th>\n",
       "      <td>1blpr5ay</td>\n",
       "      <td>Health and social justice.</td>\n",
       "      <td></td>\n",
       "      <td>Medline</td>\n",
       "      <td>2004-01-01</td>\n",
       "      <td>Lancet</td>\n",
       "      <td>Health and social justice.</td>\n",
       "      <td>4</td>\n",
       "    </tr>\n",
       "    <tr>\n",
       "      <th>85559</th>\n",
       "      <td>99fgkc3g</td>\n",
       "      <td>Editorial - COVID-19</td>\n",
       "      <td></td>\n",
       "      <td>WHO</td>\n",
       "      <td>2020-01-01</td>\n",
       "      <td>Br J Haematol</td>\n",
       "      <td>Editorial - COVID-19</td>\n",
       "      <td>3</td>\n",
       "    </tr>\n",
       "    <tr>\n",
       "      <th>93788</th>\n",
       "      <td>hs9e4tz2</td>\n",
       "      <td>Mechanisms of Demyelination</td>\n",
       "      <td></td>\n",
       "      <td>Elsevier; PMC</td>\n",
       "      <td>1985-03-02</td>\n",
       "      <td>The Lancet</td>\n",
       "      <td>Mechanisms of Demyelination</td>\n",
       "      <td>3</td>\n",
       "    </tr>\n",
       "    <tr>\n",
       "      <th>78105</th>\n",
       "      <td>ybpp5xv2</td>\n",
       "      <td>Dialysis and transplantation.</td>\n",
       "      <td></td>\n",
       "      <td>Medline</td>\n",
       "      <td>1968-01-01</td>\n",
       "      <td>The New England journal of medicine</td>\n",
       "      <td>Dialysis and transplantation.</td>\n",
       "      <td>3</td>\n",
       "    </tr>\n",
       "    <tr>\n",
       "      <th>121406</th>\n",
       "      <td>70vneh6r</td>\n",
       "      <td>COVID-19 Disaster Response Assessment</td>\n",
       "      <td></td>\n",
       "      <td>Medline; WHO</td>\n",
       "      <td>2020-01-01</td>\n",
       "      <td>J Burn Care Res</td>\n",
       "      <td>COVID-19 Disaster Response Assessment</td>\n",
       "      <td>4</td>\n",
       "    </tr>\n",
       "    <tr>\n",
       "      <th>123477</th>\n",
       "      <td>75oun377</td>\n",
       "      <td>Science news top 25</td>\n",
       "      <td></td>\n",
       "      <td>Medline; PMC</td>\n",
       "      <td>2013-12-18</td>\n",
       "      <td>Sci News</td>\n",
       "      <td>Science news top 25</td>\n",
       "      <td>4</td>\n",
       "    </tr>\n",
       "    <tr>\n",
       "      <th>101798</th>\n",
       "      <td>3r7yzukp</td>\n",
       "      <td>Reply to Lipsitch</td>\n",
       "      <td></td>\n",
       "      <td>Medline; PMC</td>\n",
       "      <td>2016-10-15</td>\n",
       "      <td>J Infect Dis</td>\n",
       "      <td>Reply to Lipsitch</td>\n",
       "      <td>3</td>\n",
       "    </tr>\n",
       "    <tr>\n",
       "      <th>11464</th>\n",
       "      <td>c7pycoi6</td>\n",
       "      <td>Gesellschaft für Toxikologische Pathologie</td>\n",
       "      <td></td>\n",
       "      <td>PMC</td>\n",
       "      <td>2011-11-06</td>\n",
       "      <td>Exp Toxicol Pathol</td>\n",
       "      <td>Gesellschaft für Toxikologische Pathologie</td>\n",
       "      <td>4</td>\n",
       "    </tr>\n",
       "    <tr>\n",
       "      <th>22163</th>\n",
       "      <td>yq48e6oc</td>\n",
       "      <td>Lymph Node Disorders</td>\n",
       "      <td></td>\n",
       "      <td>PMC</td>\n",
       "      <td>2012-02-17</td>\n",
       "      <td>Pediatric Surgery</td>\n",
       "      <td>Lymph Node Disorders</td>\n",
       "      <td>3</td>\n",
       "    </tr>\n",
       "    <tr>\n",
       "      <th>108434</th>\n",
       "      <td>hdkkaq75</td>\n",
       "      <td>COVID-19: faecal–oral transmission?</td>\n",
       "      <td></td>\n",
       "      <td>Medline; PMC; WHO</td>\n",
       "      <td>2020-03-25</td>\n",
       "      <td>Nat Rev Gastroenterol Hepatol</td>\n",
       "      <td>COVID-19: faecal–oral transmission?</td>\n",
       "      <td>3</td>\n",
       "    </tr>\n",
       "    <tr>\n",
       "      <th>6998</th>\n",
       "      <td>wj1jxzym</td>\n",
       "      <td>SARS safety and science</td>\n",
       "      <td></td>\n",
       "      <td>PMC</td>\n",
       "      <td>2003-01-01</td>\n",
       "      <td>Can J Anaesth</td>\n",
       "      <td>SARS safety and science</td>\n",
       "      <td>4</td>\n",
       "    </tr>\n",
       "    <tr>\n",
       "      <th>19423</th>\n",
       "      <td>zk2havjz</td>\n",
       "      <td>Next month's highlights</td>\n",
       "      <td></td>\n",
       "      <td>PMC</td>\n",
       "      <td>2008-02-21</td>\n",
       "      <td>Am J Kidney Dis</td>\n",
       "      <td>Next month's highlights</td>\n",
       "      <td>3</td>\n",
       "    </tr>\n",
       "  </tbody>\n",
       "</table>\n",
       "</div>"
      ],
      "text/plain": [
       "        cord_uid                                       title abstract  \\\n",
       "8197    623yva2l                        ICAR 2011: Abstracts            \n",
       "43685   bcuivyku                       Covid-19 and Namaste.            \n",
       "23109   lhpy3d3p                       Contents to volume 14            \n",
       "68611   1blpr5ay                  Health and social justice.            \n",
       "85559   99fgkc3g                        Editorial - COVID-19            \n",
       "93788   hs9e4tz2                 Mechanisms of Demyelination            \n",
       "78105   ybpp5xv2               Dialysis and transplantation.            \n",
       "121406  70vneh6r       COVID-19 Disaster Response Assessment            \n",
       "123477  75oun377                         Science news top 25            \n",
       "101798  3r7yzukp                           Reply to Lipsitch            \n",
       "11464   c7pycoi6  Gesellschaft für Toxikologische Pathologie            \n",
       "22163   yq48e6oc                        Lymph Node Disorders            \n",
       "108434  hdkkaq75         COVID-19: faecal–oral transmission?            \n",
       "6998    wj1jxzym                     SARS safety and science            \n",
       "19423   zk2havjz                     Next month's highlights            \n",
       "\n",
       "                 source_x publish_time  \\\n",
       "8197                  PMC   2011-03-13   \n",
       "43685             Medline   2020-04-21   \n",
       "23109                 PMC   2002-11-12   \n",
       "68611             Medline   2004-01-01   \n",
       "85559                 WHO   2020-01-01   \n",
       "93788       Elsevier; PMC   1985-03-02   \n",
       "78105             Medline   1968-01-01   \n",
       "121406       Medline; WHO   2020-01-01   \n",
       "123477       Medline; PMC   2013-12-18   \n",
       "101798       Medline; PMC   2016-10-15   \n",
       "11464                 PMC   2011-11-06   \n",
       "22163                 PMC   2012-02-17   \n",
       "108434  Medline; PMC; WHO   2020-03-25   \n",
       "6998                  PMC   2003-01-01   \n",
       "19423                 PMC   2008-02-21   \n",
       "\n",
       "                                        journal  \\\n",
       "8197                                  Infection   \n",
       "43685   Influenza and other respiratory viruses   \n",
       "23109                           J Virol Methods   \n",
       "68611                                    Lancet   \n",
       "85559                             Br J Haematol   \n",
       "93788                                The Lancet   \n",
       "78105       The New England journal of medicine   \n",
       "121406                          J Burn Care Res   \n",
       "123477                                 Sci News   \n",
       "101798                             J Infect Dis   \n",
       "11464                        Exp Toxicol Pathol   \n",
       "22163                         Pediatric Surgery   \n",
       "108434            Nat Rev Gastroenterol Hepatol   \n",
       "6998                              Can J Anaesth   \n",
       "19423                           Am J Kidney Dis   \n",
       "\n",
       "                                     title+abstract  title+abstract_wc  \n",
       "8197                          ICAR 2011: Abstracts                   3  \n",
       "43685                        Covid-19 and Namaste.                   3  \n",
       "23109                        Contents to volume 14                   4  \n",
       "68611                   Health and social justice.                   4  \n",
       "85559                         Editorial - COVID-19                   3  \n",
       "93788                  Mechanisms of Demyelination                   3  \n",
       "78105                Dialysis and transplantation.                   3  \n",
       "121406       COVID-19 Disaster Response Assessment                   4  \n",
       "123477                         Science news top 25                   4  \n",
       "101798                           Reply to Lipsitch                   3  \n",
       "11464   Gesellschaft für Toxikologische Pathologie                   4  \n",
       "22163                         Lymph Node Disorders                   3  \n",
       "108434         COVID-19: faecal–oral transmission?                   3  \n",
       "6998                       SARS safety and science                   4  \n",
       "19423                      Next month's highlights                   3  "
      ]
     },
     "execution_count": 18,
     "metadata": {},
     "output_type": "execute_result"
    }
   ],
   "source": [
    "metadata[(metadata['title+abstract_wc'] > 2) & (metadata['title+abstract_wc'] < 5)].sample(15, random_state=0)"
   ]
  },
  {
   "cell_type": "markdown",
   "metadata": {},
   "source": [
    "Again we don't see that much information in the combined column, some of them tend to be news or articles which have much less information to tell us if they are relevant to a given query without reading the full text.\n",
    "\n",
    "Now let's investigate duplicated cord_uid's"
   ]
  },
  {
   "cell_type": "code",
   "execution_count": 19,
   "metadata": {},
   "outputs": [
    {
     "data": {
      "text/html": [
       "<div>\n",
       "<style scoped>\n",
       "    .dataframe tbody tr th:only-of-type {\n",
       "        vertical-align: middle;\n",
       "    }\n",
       "\n",
       "    .dataframe tbody tr th {\n",
       "        vertical-align: top;\n",
       "    }\n",
       "\n",
       "    .dataframe thead th {\n",
       "        text-align: right;\n",
       "    }\n",
       "</style>\n",
       "<table border=\"1\" class=\"dataframe\">\n",
       "  <thead>\n",
       "    <tr style=\"text-align: right;\">\n",
       "      <th></th>\n",
       "      <th>cord_uid</th>\n",
       "      <th>title</th>\n",
       "      <th>abstract</th>\n",
       "      <th>source_x</th>\n",
       "      <th>publish_time</th>\n",
       "      <th>journal</th>\n",
       "      <th>title+abstract</th>\n",
       "      <th>title+abstract_wc</th>\n",
       "    </tr>\n",
       "  </thead>\n",
       "  <tbody>\n",
       "    <tr>\n",
       "      <th>13805</th>\n",
       "      <td>uae2ek12</td>\n",
       "      <td>Protect Healthcare Workers and Patients from C...</td>\n",
       "      <td></td>\n",
       "      <td>PMC</td>\n",
       "      <td>2020-04-24</td>\n",
       "      <td>Ophthalmol Ther</td>\n",
       "      <td>Protect Healthcare Workers and Patients from C...</td>\n",
       "      <td>18</td>\n",
       "    </tr>\n",
       "    <tr>\n",
       "      <th>22438</th>\n",
       "      <td>jsk1oztb</td>\n",
       "      <td>‘Promoted by Hong Tao, the Chlamydia Hypothesi...</td>\n",
       "      <td>Purpose – The aims of this chapter are twofold...</td>\n",
       "      <td>PMC</td>\n",
       "      <td>2010-04-21</td>\n",
       "      <td>NaN</td>\n",
       "      <td>‘Promoted by Hong Tao, the Chlamydia Hypothesi...</td>\n",
       "      <td>280</td>\n",
       "    </tr>\n",
       "    <tr>\n",
       "      <th>22458</th>\n",
       "      <td>jsk1oztb</td>\n",
       "      <td>‘Promoted by Hong Tao, the Chlamydia Hypothesi...</td>\n",
       "      <td>Purpose – The aims of this chapter are twofold...</td>\n",
       "      <td>PMC</td>\n",
       "      <td>2010-04-21</td>\n",
       "      <td>NaN</td>\n",
       "      <td>‘Promoted by Hong Tao, the Chlamydia Hypothesi...</td>\n",
       "      <td>280</td>\n",
       "    </tr>\n",
       "    <tr>\n",
       "      <th>29246</th>\n",
       "      <td>nmchd4ib</td>\n",
       "      <td>Surveillance of vector-borne diseases in Germa...</td>\n",
       "      <td>The changing epidemiology of vector-borne dise...</td>\n",
       "      <td>Medline</td>\n",
       "      <td>2008-01-01</td>\n",
       "      <td>Parasitology research</td>\n",
       "      <td>Surveillance of vector-borne diseases in Germa...</td>\n",
       "      <td>303</td>\n",
       "    </tr>\n",
       "    <tr>\n",
       "      <th>30097</th>\n",
       "      <td>u9jdb2nw</td>\n",
       "      <td>Exportations of Symptomatic Cases of MERS-CoV ...</td>\n",
       "      <td>In 2012, an outbreak of infection with Middle ...</td>\n",
       "      <td>Medline</td>\n",
       "      <td>2016-01-01</td>\n",
       "      <td>Emerging infectious diseases</td>\n",
       "      <td>Exportations of Symptomatic Cases of MERS-CoV ...</td>\n",
       "      <td>65</td>\n",
       "    </tr>\n",
       "  </tbody>\n",
       "</table>\n",
       "</div>"
      ],
      "text/plain": [
       "       cord_uid                                              title  \\\n",
       "13805  uae2ek12  Protect Healthcare Workers and Patients from C...   \n",
       "22438  jsk1oztb  ‘Promoted by Hong Tao, the Chlamydia Hypothesi...   \n",
       "22458  jsk1oztb  ‘Promoted by Hong Tao, the Chlamydia Hypothesi...   \n",
       "29246  nmchd4ib  Surveillance of vector-borne diseases in Germa...   \n",
       "30097  u9jdb2nw  Exportations of Symptomatic Cases of MERS-CoV ...   \n",
       "\n",
       "                                                abstract source_x  \\\n",
       "13805                                                         PMC   \n",
       "22438  Purpose – The aims of this chapter are twofold...      PMC   \n",
       "22458  Purpose – The aims of this chapter are twofold...      PMC   \n",
       "29246  The changing epidemiology of vector-borne dise...  Medline   \n",
       "30097  In 2012, an outbreak of infection with Middle ...  Medline   \n",
       "\n",
       "      publish_time                       journal  \\\n",
       "13805   2020-04-24               Ophthalmol Ther   \n",
       "22438   2010-04-21                           NaN   \n",
       "22458   2010-04-21                           NaN   \n",
       "29246   2008-01-01         Parasitology research   \n",
       "30097   2016-01-01  Emerging infectious diseases   \n",
       "\n",
       "                                          title+abstract  title+abstract_wc  \n",
       "13805  Protect Healthcare Workers and Patients from C...                 18  \n",
       "22438  ‘Promoted by Hong Tao, the Chlamydia Hypothesi...                280  \n",
       "22458  ‘Promoted by Hong Tao, the Chlamydia Hypothesi...                280  \n",
       "29246  Surveillance of vector-borne diseases in Germa...                303  \n",
       "30097  Exportations of Symptomatic Cases of MERS-CoV ...                 65  "
      ]
     },
     "execution_count": 19,
     "metadata": {},
     "output_type": "execute_result"
    }
   ],
   "source": [
    "duplicated_metadata = metadata[metadata.duplicated([\"cord_uid\"])]\n",
    "duplicated_metadata.head()"
   ]
  },
  {
   "cell_type": "code",
   "execution_count": 20,
   "metadata": {},
   "outputs": [
    {
     "data": {
      "text/plain": [
       "(328, 8)"
      ]
     },
     "execution_count": 20,
     "metadata": {},
     "output_type": "execute_result"
    }
   ],
   "source": [
    "duplicated_metadata.shape"
   ]
  },
  {
   "cell_type": "markdown",
   "metadata": {},
   "source": [
    "Looks like there are ~300 duplicated `corduids` so we can drop them and keep the first ones only."
   ]
  },
  {
   "cell_type": "code",
   "execution_count": 21,
   "metadata": {},
   "outputs": [
    {
     "data": {
      "text/html": [
       "<div>\n",
       "<style scoped>\n",
       "    .dataframe tbody tr th:only-of-type {\n",
       "        vertical-align: middle;\n",
       "    }\n",
       "\n",
       "    .dataframe tbody tr th {\n",
       "        vertical-align: top;\n",
       "    }\n",
       "\n",
       "    .dataframe thead th {\n",
       "        text-align: right;\n",
       "    }\n",
       "</style>\n",
       "<table border=\"1\" class=\"dataframe\">\n",
       "  <thead>\n",
       "    <tr style=\"text-align: right;\">\n",
       "      <th></th>\n",
       "      <th>cord_uid</th>\n",
       "      <th>title</th>\n",
       "      <th>abstract</th>\n",
       "      <th>source_x</th>\n",
       "      <th>publish_time</th>\n",
       "      <th>journal</th>\n",
       "      <th>title+abstract</th>\n",
       "      <th>title+abstract_wc</th>\n",
       "    </tr>\n",
       "  </thead>\n",
       "  <tbody>\n",
       "  </tbody>\n",
       "</table>\n",
       "</div>"
      ],
      "text/plain": [
       "Empty DataFrame\n",
       "Columns: [cord_uid, title, abstract, source_x, publish_time, journal, title+abstract, title+abstract_wc]\n",
       "Index: []"
      ]
     },
     "execution_count": 21,
     "metadata": {},
     "output_type": "execute_result"
    }
   ],
   "source": [
    "metadata.drop_duplicates(subset=['cord_uid'], keep='first', inplace=True)\n",
    "metadata.reset_index(drop=True, inplace=True)\n",
    "metadata[metadata.duplicated([\"cord_uid\"])]"
   ]
  },
  {
   "cell_type": "code",
   "execution_count": 22,
   "metadata": {},
   "outputs": [
    {
     "name": "stdout",
     "output_type": "stream",
     "text": [
      "<class 'pandas.core.frame.DataFrame'>\n",
      "RangeIndex: 127617 entries, 0 to 127616\n",
      "Data columns (total 8 columns):\n",
      " #   Column             Non-Null Count   Dtype         \n",
      "---  ------             --------------   -----         \n",
      " 0   cord_uid           127617 non-null  object        \n",
      " 1   title              127617 non-null  object        \n",
      " 2   abstract           127617 non-null  object        \n",
      " 3   source_x           127617 non-null  object        \n",
      " 4   publish_time       127602 non-null  datetime64[ns]\n",
      " 5   journal            121369 non-null  object        \n",
      " 6   title+abstract     127617 non-null  object        \n",
      " 7   title+abstract_wc  127617 non-null  int64         \n",
      "dtypes: datetime64[ns](1), int64(1), object(6)\n",
      "memory usage: 7.8+ MB\n"
     ]
    }
   ],
   "source": [
    "metadata.info()"
   ]
  },
  {
   "cell_type": "markdown",
   "metadata": {},
   "source": [
    "## III. Save Cleaned Data set"
   ]
  },
  {
   "cell_type": "code",
   "execution_count": 23,
   "metadata": {},
   "outputs": [
    {
     "data": {
      "text/html": [
       "<div>\n",
       "<style scoped>\n",
       "    .dataframe tbody tr th:only-of-type {\n",
       "        vertical-align: middle;\n",
       "    }\n",
       "\n",
       "    .dataframe tbody tr th {\n",
       "        vertical-align: top;\n",
       "    }\n",
       "\n",
       "    .dataframe thead th {\n",
       "        text-align: right;\n",
       "    }\n",
       "</style>\n",
       "<table border=\"1\" class=\"dataframe\">\n",
       "  <thead>\n",
       "    <tr style=\"text-align: right;\">\n",
       "      <th></th>\n",
       "      <th>cord_uid</th>\n",
       "      <th>title</th>\n",
       "      <th>abstract</th>\n",
       "      <th>title+abstract</th>\n",
       "    </tr>\n",
       "  </thead>\n",
       "  <tbody>\n",
       "    <tr>\n",
       "      <th>0</th>\n",
       "      <td>ug7v899j</td>\n",
       "      <td>Clinical features of culture-proven Mycoplasma...</td>\n",
       "      <td>OBJECTIVE: This retrospective chart review des...</td>\n",
       "      <td>Clinical features of culture-proven Mycoplasma...</td>\n",
       "    </tr>\n",
       "    <tr>\n",
       "      <th>1</th>\n",
       "      <td>02tnwd4m</td>\n",
       "      <td>Nitric oxide: a pro-inflammatory mediator in l...</td>\n",
       "      <td>Inflammatory diseases of the respiratory tract...</td>\n",
       "      <td>Nitric oxide: a pro-inflammatory mediator in l...</td>\n",
       "    </tr>\n",
       "    <tr>\n",
       "      <th>2</th>\n",
       "      <td>ejv2xln0</td>\n",
       "      <td>Surfactant protein-D and pulmonary host defense</td>\n",
       "      <td>Surfactant protein-D (SP-D) participates in th...</td>\n",
       "      <td>Surfactant protein-D and pulmonary host defens...</td>\n",
       "    </tr>\n",
       "    <tr>\n",
       "      <th>3</th>\n",
       "      <td>2b73a28n</td>\n",
       "      <td>Role of endothelin-1 in lung disease</td>\n",
       "      <td>Endothelin-1 (ET-1) is a 21 amino acid peptide...</td>\n",
       "      <td>Role of endothelin-1 in lung disease Endotheli...</td>\n",
       "    </tr>\n",
       "    <tr>\n",
       "      <th>4</th>\n",
       "      <td>9785vg6d</td>\n",
       "      <td>Gene expression in epithelial cells in respons...</td>\n",
       "      <td>Respiratory syncytial virus (RSV) and pneumoni...</td>\n",
       "      <td>Gene expression in epithelial cells in respons...</td>\n",
       "    </tr>\n",
       "  </tbody>\n",
       "</table>\n",
       "</div>"
      ],
      "text/plain": [
       "   cord_uid                                              title  \\\n",
       "0  ug7v899j  Clinical features of culture-proven Mycoplasma...   \n",
       "1  02tnwd4m  Nitric oxide: a pro-inflammatory mediator in l...   \n",
       "2  ejv2xln0    Surfactant protein-D and pulmonary host defense   \n",
       "3  2b73a28n               Role of endothelin-1 in lung disease   \n",
       "4  9785vg6d  Gene expression in epithelial cells in respons...   \n",
       "\n",
       "                                            abstract  \\\n",
       "0  OBJECTIVE: This retrospective chart review des...   \n",
       "1  Inflammatory diseases of the respiratory tract...   \n",
       "2  Surfactant protein-D (SP-D) participates in th...   \n",
       "3  Endothelin-1 (ET-1) is a 21 amino acid peptide...   \n",
       "4  Respiratory syncytial virus (RSV) and pneumoni...   \n",
       "\n",
       "                                      title+abstract  \n",
       "0  Clinical features of culture-proven Mycoplasma...  \n",
       "1  Nitric oxide: a pro-inflammatory mediator in l...  \n",
       "2  Surfactant protein-D and pulmonary host defens...  \n",
       "3  Role of endothelin-1 in lung disease Endotheli...  \n",
       "4  Gene expression in epithelial cells in respons...  "
      ]
     },
     "execution_count": 23,
     "metadata": {},
     "output_type": "execute_result"
    }
   ],
   "source": [
    "processed_metadata = metadata[['cord_uid', 'title', 'abstract', 'title+abstract']]\n",
    "processed_metadata.head()"
   ]
  },
  {
   "cell_type": "code",
   "execution_count": 24,
   "metadata": {},
   "outputs": [],
   "source": [
    "PROCESSED_FPATH = Path('../data') / 'trec_cord19_v0.csv'\n",
    "processed_metadata.to_csv(PROCESSED_FPATH, index=False)"
   ]
  }
 ],
 "metadata": {
  "kernelspec": {
   "display_name": "Environment (conda_ir)",
   "language": "python",
   "name": "conda_ir"
  },
  "language_info": {
   "codemirror_mode": {
    "name": "ipython",
    "version": 3
   },
   "file_extension": ".py",
   "mimetype": "text/x-python",
   "name": "python",
   "nbconvert_exporter": "python",
   "pygments_lexer": "ipython3",
   "version": "3.9.0"
  }
 },
 "nbformat": 4,
 "nbformat_minor": 4
}
