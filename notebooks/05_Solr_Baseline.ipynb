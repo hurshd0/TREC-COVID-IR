{
 "cells": [
  {
   "cell_type": "markdown",
   "metadata": {},
   "source": [
    "# Solr Baseline"
   ]
  },
  {
   "cell_type": "markdown",
   "metadata": {},
   "source": [
    "The easiest way to setup and run ad hoc single instance Solr is to use Docker. So make sure Docker is installed and run following commands in terminal:\n",
    "\n",
    "```shell\n",
    "docker pull solr # Pull latest docker solr image\n",
    "docker run -d --name solr -p 8983:8983 -t solr # Run solr docker container and name it\n",
    "docker exec -it solr bash # Launch interactive bash shell inside solr container\n",
    "bin/solr create -c cord19_2020_05_19_abstract # Create schema-less solr core\n",
    "exit # Exit from solr container bash shell\n",
    "```\n",
    "\n",
    "Let's test it on `abstract` to get a baseline."
   ]
  },
  {
   "cell_type": "markdown",
   "metadata": {},
   "source": [
    "## Import necessary libs"
   ]
  },
  {
   "cell_type": "code",
   "execution_count": 1,
   "metadata": {},
   "outputs": [],
   "source": [
    "%reload_ext memory_profiler\n",
    "import json\n",
    "import os"
   ]
  },
  {
   "cell_type": "code",
   "execution_count": 2,
   "metadata": {},
   "outputs": [
    {
     "name": "stdout",
     "output_type": "stream",
     "text": [
      "Overwriting solr.py\n"
     ]
    }
   ],
   "source": [
    "%%writefile solr.py\n",
    "import pysolr\n",
    "from pathlib import Path\n",
    "import pandas as pd\n",
    "\n",
    "def create_solr_connection(collection_name, solr_connection_url):\n",
    "    \"\"\"Creates Solr connection\n",
    "    \"\"\"\n",
    "    solr = pysolr.Solr(\n",
    "        \"{}/solr/{}\".format(solr_connection_url, collection_name),\n",
    "        always_commit=True,\n",
    "        timeout=10\n",
    "    )\n",
    "    return solr\n",
    "\n",
    "def get_ranked_lists(query: str, qid: int, run_name: str, solr: pysolr.Solr, top_k: int) -> list:\n",
    "    \"\"\"Get Top k ranked lists from Solr index\"\"\"\n",
    "    solr_query = f\"text:{query}\"\n",
    "    solr_query_param = {\n",
    "        \"fl\": \"id,score\",\n",
    "        \"rows\": top_k\n",
    "    }\n",
    "    template = \"{} Q0 {} {} {:.6f} {}\\n\"\n",
    "    results = solr.search(solr_query, **solr_query_param).docs\n",
    "    return [template.format(qid, row['id'], idx+1, row['score'], run_name) for idx, row in enumerate(results)]\n",
    "\n",
    "def write_results(output_fpath: Path, query_df: pd.DataFrame, query_txt_col: str, solr: pysolr.Solr, run_name: str, top_k=1000):\n",
    "    \"\"\"Writes retrieved resuls to text file\"\"\"\n",
    "    with open(output_fpath, 'w', encoding='utf-8') as writer:\n",
    "        for idx, query_row in query_df.iterrows():\n",
    "            qid = idx\n",
    "            query = query_row[query_txt_col]\n",
    "            ranked_lists = get_ranked_lists(query, qid, run_name, solr, top_k)\n",
    "            writer.writelines(ranked_lists)"
   ]
  },
  {
   "cell_type": "code",
   "execution_count": 3,
   "metadata": {},
   "outputs": [],
   "source": [
    "%reload_ext autoreload\n",
    "%autoreload 2\n",
    "from solr import *"
   ]
  },
  {
   "cell_type": "markdown",
   "metadata": {},
   "source": [
    "## Verify Solr connection"
   ]
  },
  {
   "cell_type": "code",
   "execution_count": 4,
   "metadata": {},
   "outputs": [
    {
     "name": "stdout",
     "output_type": "stream",
     "text": [
      "Ping connection url for health check\n",
      "{\n",
      "  \"responseHeader\":{\n",
      "    \"zkConnected\":null,\n",
      "    \"status\":0,\n",
      "    \"QTime\":11,\n",
      "    \"params\":{\n",
      "      \"q\":\"{!lucene}*:*\",\n",
      "      \"distrib\":\"false\",\n",
      "      \"df\":\"_text_\",\n",
      "      \"rows\":\"10\",\n",
      "      \"echoParams\":\"all\",\n",
      "      \"rid\":\"-43\"}},\n",
      "  \"status\":\"OK\"}\n",
      "\n"
     ]
    }
   ],
   "source": [
    "solr = create_solr_connection(\"cord19_2020_05_19_abstract\", \"http://0.0.0.0:8983\")\n",
    "# Verify connection is working\n",
    "print(\"Ping connection url for health check\")\n",
    "print(solr.ping())"
   ]
  },
  {
   "cell_type": "markdown",
   "metadata": {},
   "source": [
    "## Load dataset"
   ]
  },
  {
   "cell_type": "code",
   "execution_count": 5,
   "metadata": {},
   "outputs": [
    {
     "data": {
      "text/html": [
       "<div>\n",
       "<style scoped>\n",
       "    .dataframe tbody tr th:only-of-type {\n",
       "        vertical-align: middle;\n",
       "    }\n",
       "\n",
       "    .dataframe tbody tr th {\n",
       "        vertical-align: top;\n",
       "    }\n",
       "\n",
       "    .dataframe thead th {\n",
       "        text-align: right;\n",
       "    }\n",
       "</style>\n",
       "<table border=\"1\" class=\"dataframe\">\n",
       "  <thead>\n",
       "    <tr style=\"text-align: right;\">\n",
       "      <th></th>\n",
       "      <th>abstract</th>\n",
       "      <th>title+abstract</th>\n",
       "    </tr>\n",
       "    <tr>\n",
       "      <th>cord_uid</th>\n",
       "      <th></th>\n",
       "      <th></th>\n",
       "    </tr>\n",
       "  </thead>\n",
       "  <tbody>\n",
       "    <tr>\n",
       "      <th>ug7v899j</th>\n",
       "      <td>OBJECTIVE: This retrospective chart review des...</td>\n",
       "      <td>Clinical features of culture-proven Mycoplasma...</td>\n",
       "    </tr>\n",
       "    <tr>\n",
       "      <th>02tnwd4m</th>\n",
       "      <td>Inflammatory diseases of the respiratory tract...</td>\n",
       "      <td>Nitric oxide: a pro-inflammatory mediator in l...</td>\n",
       "    </tr>\n",
       "    <tr>\n",
       "      <th>ejv2xln0</th>\n",
       "      <td>Surfactant protein-D (SP-D) participates in th...</td>\n",
       "      <td>Surfactant protein-D and pulmonary host defens...</td>\n",
       "    </tr>\n",
       "    <tr>\n",
       "      <th>2b73a28n</th>\n",
       "      <td>Endothelin-1 (ET-1) is a 21 amino acid peptide...</td>\n",
       "      <td>Role of endothelin-1 in lung disease Endotheli...</td>\n",
       "    </tr>\n",
       "    <tr>\n",
       "      <th>9785vg6d</th>\n",
       "      <td>Respiratory syncytial virus (RSV) and pneumoni...</td>\n",
       "      <td>Gene expression in epithelial cells in respons...</td>\n",
       "    </tr>\n",
       "  </tbody>\n",
       "</table>\n",
       "</div>"
      ],
      "text/plain": [
       "                                                   abstract  \\\n",
       "cord_uid                                                      \n",
       "ug7v899j  OBJECTIVE: This retrospective chart review des...   \n",
       "02tnwd4m  Inflammatory diseases of the respiratory tract...   \n",
       "ejv2xln0  Surfactant protein-D (SP-D) participates in th...   \n",
       "2b73a28n  Endothelin-1 (ET-1) is a 21 amino acid peptide...   \n",
       "9785vg6d  Respiratory syncytial virus (RSV) and pneumoni...   \n",
       "\n",
       "                                             title+abstract  \n",
       "cord_uid                                                     \n",
       "ug7v899j  Clinical features of culture-proven Mycoplasma...  \n",
       "02tnwd4m  Nitric oxide: a pro-inflammatory mediator in l...  \n",
       "ejv2xln0  Surfactant protein-D and pulmonary host defens...  \n",
       "2b73a28n  Role of endothelin-1 in lung disease Endotheli...  \n",
       "9785vg6d  Gene expression in epithelial cells in respons...  "
      ]
     },
     "execution_count": 5,
     "metadata": {},
     "output_type": "execute_result"
    }
   ],
   "source": [
    "CORD19_PATH = Path('../data/input/trec_cord19_v0.csv')\n",
    "\n",
    "def load_cord19(input_fpath: Path, dtype: str = 'csv', cols_to_keep: list = ['cord_uid', 'abstract'], index_col = 'cord_uid') -> pd.DataFrame:\n",
    "    \"\"\"Loads CORD19 data and returns it as pandas data frame\n",
    "    \"\"\"\n",
    "    if dtype == 'csv':\n",
    "        df = pd.read_csv(input_fpath, quotechar='\"', index_col=index_col, usecols=cols_to_keep)\n",
    "        # for each column\n",
    "        for col in df.columns:\n",
    "            # check if the columns contains string data\n",
    "            if pd.api.types.is_string_dtype(df[col]):\n",
    "                df[col] = df[col].str.strip() # removes front and end white spaces\n",
    "                df[col] = df[col].str.replace('\\s{2,}', ' ') # remove double or more white spaces\n",
    "    return df\n",
    "\n",
    "cord19 = load_cord19(CORD19_PATH, cols_to_keep = ['cord_uid', 'abstract', 'title+abstract'])\n",
    "cord19.head()"
   ]
  },
  {
   "cell_type": "code",
   "execution_count": 6,
   "metadata": {},
   "outputs": [
    {
     "name": "stdout",
     "output_type": "stream",
     "text": [
      "<class 'pandas.core.frame.DataFrame'>\n",
      "Index: 127617 entries, ug7v899j to clmtwq4v\n",
      "Data columns (total 2 columns):\n",
      " #   Column          Non-Null Count   Dtype \n",
      "---  ------          --------------   ----- \n",
      " 0   abstract        101395 non-null  object\n",
      " 1   title+abstract  127617 non-null  object\n",
      "dtypes: object(2)\n",
      "memory usage: 2.9+ MB\n"
     ]
    }
   ],
   "source": [
    "cord19.info()"
   ]
  },
  {
   "cell_type": "code",
   "execution_count": 7,
   "metadata": {},
   "outputs": [
    {
     "data": {
      "text/plain": [
       "abstract          0\n",
       "title+abstract    0\n",
       "dtype: int64"
      ]
     },
     "execution_count": 7,
     "metadata": {},
     "output_type": "execute_result"
    }
   ],
   "source": [
    "cord19.dropna(subset=['abstract'], inplace=True)\n",
    "cord19.isnull().sum()"
   ]
  },
  {
   "cell_type": "code",
   "execution_count": 8,
   "metadata": {},
   "outputs": [
    {
     "data": {
      "text/plain": [
       "101395"
      ]
     },
     "execution_count": 8,
     "metadata": {},
     "output_type": "execute_result"
    }
   ],
   "source": [
    "abstracts_dict = cord19['abstract'].to_dict()\n",
    "len(abstracts_dict)"
   ]
  },
  {
   "cell_type": "markdown",
   "metadata": {},
   "source": [
    "## Build Solr Index"
   ]
  },
  {
   "cell_type": "code",
   "execution_count": 9,
   "metadata": {},
   "outputs": [],
   "source": [
    "def build_solr_index(data_dict: dict, solr: pysolr.Solr):\n",
    "    \"\"\"Builds Solr Index using data dictionary where, key - docid and value - document text\n",
    "    \"\"\"\n",
    "    solr_payloads = []\n",
    "    for uid, text in data_dict.items():\n",
    "        solr_payload = {\n",
    "            \"id\": uid,\n",
    "            \"text\": text\n",
    "        }\n",
    "        solr_payloads.append(solr_payload)\n",
    "        if len(solr_payloads) == 1000:\n",
    "            solr.add(solr_payloads)\n",
    "            solr_payloads = []"
   ]
  },
  {
   "cell_type": "code",
   "execution_count": 10,
   "metadata": {},
   "outputs": [],
   "source": [
    "# %%time\n",
    "# %memit build_solr_index(abstracts_dict, solr)"
   ]
  },
  {
   "cell_type": "markdown",
   "metadata": {},
   "source": [
    "**Cell Output**\n",
    "\n",
    "```\n",
    "peak memory: 292.41 MiB, increment: 2.48 MiB\n",
    "CPU times: user 1.43 s, sys: 169 ms, total: 1.6 s\n",
    "Wall time: 34.7 s\n",
    "```"
   ]
  },
  {
   "cell_type": "markdown",
   "metadata": {},
   "source": [
    "## Load topics "
   ]
  },
  {
   "cell_type": "code",
   "execution_count": 11,
   "metadata": {},
   "outputs": [
    {
     "data": {
      "text/html": [
       "<div>\n",
       "<style scoped>\n",
       "    .dataframe tbody tr th:only-of-type {\n",
       "        vertical-align: middle;\n",
       "    }\n",
       "\n",
       "    .dataframe tbody tr th {\n",
       "        vertical-align: top;\n",
       "    }\n",
       "\n",
       "    .dataframe thead th {\n",
       "        text-align: right;\n",
       "    }\n",
       "</style>\n",
       "<table border=\"1\" class=\"dataframe\">\n",
       "  <thead>\n",
       "    <tr style=\"text-align: right;\">\n",
       "      <th></th>\n",
       "      <th>query</th>\n",
       "      <th>question</th>\n",
       "    </tr>\n",
       "    <tr>\n",
       "      <th>topic-id</th>\n",
       "      <th></th>\n",
       "      <th></th>\n",
       "    </tr>\n",
       "  </thead>\n",
       "  <tbody>\n",
       "    <tr>\n",
       "      <th>1</th>\n",
       "      <td>coronavirus origin</td>\n",
       "      <td>what is the origin of COVID-19</td>\n",
       "    </tr>\n",
       "    <tr>\n",
       "      <th>2</th>\n",
       "      <td>coronavirus response to weather changes</td>\n",
       "      <td>how does the coronavirus respond to changes in...</td>\n",
       "    </tr>\n",
       "    <tr>\n",
       "      <th>3</th>\n",
       "      <td>coronavirus immunity</td>\n",
       "      <td>will SARS-CoV2 infected people develop immunit...</td>\n",
       "    </tr>\n",
       "    <tr>\n",
       "      <th>4</th>\n",
       "      <td>how do people die from the coronavirus</td>\n",
       "      <td>what causes death from Covid-19?</td>\n",
       "    </tr>\n",
       "    <tr>\n",
       "      <th>5</th>\n",
       "      <td>animal models of COVID-19</td>\n",
       "      <td>what drugs have been active against SARS-CoV o...</td>\n",
       "    </tr>\n",
       "  </tbody>\n",
       "</table>\n",
       "</div>"
      ],
      "text/plain": [
       "                                            query  \\\n",
       "topic-id                                            \n",
       "1                              coronavirus origin   \n",
       "2         coronavirus response to weather changes   \n",
       "3                            coronavirus immunity   \n",
       "4          how do people die from the coronavirus   \n",
       "5                       animal models of COVID-19   \n",
       "\n",
       "                                                   question  \n",
       "topic-id                                                     \n",
       "1                            what is the origin of COVID-19  \n",
       "2         how does the coronavirus respond to changes in...  \n",
       "3         will SARS-CoV2 infected people develop immunit...  \n",
       "4                          what causes death from Covid-19?  \n",
       "5         what drugs have been active against SARS-CoV o...  "
      ]
     },
     "execution_count": 11,
     "metadata": {},
     "output_type": "execute_result"
    }
   ],
   "source": [
    "def load_queries(input_fpath: Path, dtype: str = 'csv', cols_to_keep=['topic-id', 'query', 'question'], index_col=['topic-id']) -> pd.DataFrame:\n",
    "    \"\"\"Loads queries file and returns it as pandas data frame\n",
    "    \"\"\"\n",
    "    if dtype == 'csv':\n",
    "        df = pd.read_csv(input_fpath, quotechar='\"', index_col=index_col, usecols=cols_to_keep)\n",
    "        # for each column\n",
    "        for col in df.columns:\n",
    "            # check if the columns contains string data\n",
    "            if pd.api.types.is_string_dtype(df[col]):\n",
    "                df[col] = df[col].str.strip() # removes front and end white spaces\n",
    "                df[col] = df[col].str.replace('\\s{2,}', ' ') # remove double or more white spaces\n",
    "    return df\n",
    "\n",
    "QUERY_FPATH = Path('../data/CORD-19/CORD-19/topics-rnd3.csv')\n",
    "topics = load_queries(QUERY_FPATH)\n",
    "topics.head()"
   ]
  },
  {
   "cell_type": "code",
   "execution_count": 12,
   "metadata": {},
   "outputs": [
    {
     "name": "stdout",
     "output_type": "stream",
     "text": [
      "<class 'pandas.core.frame.DataFrame'>\n",
      "Int64Index: 40 entries, 1 to 40\n",
      "Data columns (total 2 columns):\n",
      " #   Column    Non-Null Count  Dtype \n",
      "---  ------    --------------  ----- \n",
      " 0   query     40 non-null     object\n",
      " 1   question  40 non-null     object\n",
      "dtypes: object(2)\n",
      "memory usage: 960.0+ bytes\n"
     ]
    }
   ],
   "source": [
    "topics.info()"
   ]
  },
  {
   "cell_type": "code",
   "execution_count": 13,
   "metadata": {},
   "outputs": [
    {
     "data": {
      "text/plain": [
       "40"
      ]
     },
     "execution_count": 13,
     "metadata": {},
     "output_type": "execute_result"
    }
   ],
   "source": [
    "topics_dict = topics['query'].to_dict()\n",
    "len(topics_dict)"
   ]
  },
  {
   "cell_type": "markdown",
   "metadata": {},
   "source": [
    "### Test Query"
   ]
  },
  {
   "cell_type": "code",
   "execution_count": 14,
   "metadata": {},
   "outputs": [
    {
     "name": "stdout",
     "output_type": "stream",
     "text": [
      "Topic id: 1\n",
      "text:coronavirus origin\n",
      "results {'id': '5tb29n9s', 'score': 1.5096586}\n",
      "{'id': 'wbtaoo0o', 'score': 1.5071222}\n",
      "{'id': '2u5qraea', 'score': 1.5061529}\n",
      "{'id': 'lajzpk2c', 'score': 1.4965621}\n",
      "{'id': 'e53w0ext', 'score': 1.4965621}\n",
      "{'id': 'hix57xwa', 'score': 1.4923987}\n",
      "{'id': 'r2w5csll', 'score': 1.4920434}\n",
      "{'id': 'x6bryq9d', 'score': 1.4804857}\n",
      "{'id': 'uc0vp5pr', 'score': 1.4777424}\n",
      "{'id': 'xhf8yg6o', 'score': 1.4773382}\n"
     ]
    }
   ],
   "source": [
    "topic_id = 1\n",
    "print(f\"Topic id: {topic_id}\")\n",
    "full_text_query = f\"text:{topics_dict[topic_id]}\"\n",
    "print(full_text_query)\n",
    "\n",
    "solr_query_param = {\n",
    "    \"fl\": \"id, score\",\n",
    "    \"rows\": 10\n",
    "}\n",
    "results = solr.search(full_text_query, **solr_query_param).docs\n",
    "print(\"results\", \"\\n\".join(str(e) for e in results))"
   ]
  },
  {
   "cell_type": "markdown",
   "metadata": {},
   "source": [
    "## a) Run Solr on `abstract` + `query`"
   ]
  },
  {
   "cell_type": "code",
   "execution_count": 15,
   "metadata": {},
   "outputs": [],
   "source": [
    "txt_cols = 'abstract_query'\n",
    "run_name = f'solr_baseline_{txt_cols}'\n",
    "query_txt_col = 'query'\n",
    "output_fpath = Path('../data/output') / f'{run_name}.txt'\n",
    "write_results(output_fpath, topics, query_txt_col, solr, run_name)"
   ]
  },
  {
   "cell_type": "markdown",
   "metadata": {},
   "source": [
    "### Run TREC Eval"
   ]
  },
  {
   "cell_type": "code",
   "execution_count": 16,
   "metadata": {},
   "outputs": [
    {
     "name": "stdout",
     "output_type": "stream",
     "text": [
      "runid                 \tall\tsolr_baseline_abstract_query\n",
      "num_q                 \tall\t40\n",
      "num_ret               \tall\t39510\n",
      "num_rel               \tall\t10001\n",
      "num_rel_ret           \tall\t604\n",
      "map                   \tall\t0.0094\n",
      "gm_map                \tall\t0.0003\n",
      "Rprec                 \tall\t0.0263\n",
      "bpref                 \tall\t0.0577\n",
      "recip_rank            \tall\t0.0737\n",
      "iprec_at_recall_0.00  \tall\t0.0840\n",
      "iprec_at_recall_0.10  \tall\t0.0305\n",
      "iprec_at_recall_0.20  \tall\t0.0221\n",
      "iprec_at_recall_0.30  \tall\t0.0160\n",
      "iprec_at_recall_0.40  \tall\t0.0025\n",
      "iprec_at_recall_0.50  \tall\t0.0000\n",
      "iprec_at_recall_0.60  \tall\t0.0000\n",
      "iprec_at_recall_0.70  \tall\t0.0000\n",
      "iprec_at_recall_0.80  \tall\t0.0000\n",
      "iprec_at_recall_0.90  \tall\t0.0000\n",
      "iprec_at_recall_1.00  \tall\t0.0000\n",
      "P_5                   \tall\t0.0350\n",
      "P_10                  \tall\t0.0350\n",
      "P_15                  \tall\t0.0350\n",
      "P_20                  \tall\t0.0375\n",
      "P_30                  \tall\t0.0392\n",
      "P_100                 \tall\t0.0348\n",
      "P_200                 \tall\t0.0315\n",
      "P_500                 \tall\t0.0204\n",
      "P_1000                \tall\t0.0151\n",
      "recall_5              \tall\t0.0006\n",
      "recall_10             \tall\t0.0012\n",
      "recall_15             \tall\t0.0021\n",
      "recall_20             \tall\t0.0031\n",
      "recall_30             \tall\t0.0049\n",
      "recall_100            \tall\t0.0145\n",
      "recall_200            \tall\t0.0264\n",
      "recall_500            \tall\t0.0428\n",
      "recall_1000           \tall\t0.0643\n",
      "infAP                 \tall\t0.0094\n",
      "gm_bpref              \tall\t0.0224\n",
      "Rprec_mult_0.20       \tall\t0.0366\n",
      "Rprec_mult_0.40       \tall\t0.0341\n",
      "Rprec_mult_0.60       \tall\t0.0330\n",
      "Rprec_mult_0.80       \tall\t0.0294\n",
      "Rprec_mult_1.00       \tall\t0.0263\n",
      "Rprec_mult_1.20       \tall\t0.0251\n",
      "Rprec_mult_1.40       \tall\t0.0237\n",
      "Rprec_mult_1.60       \tall\t0.0225\n",
      "Rprec_mult_1.80       \tall\t0.0213\n",
      "Rprec_mult_2.00       \tall\t0.0204\n",
      "utility               \tall\t-957.5500\n",
      "11pt_avg              \tall\t0.0141\n",
      "binG                  \tall\t0.0095\n",
      "G                     \tall\t0.0085\n",
      "ndcg                  \tall\t0.0493\n",
      "ndcg_rel              \tall\t0.0479\n",
      "Rndcg                 \tall\t0.0336\n",
      "ndcg_cut_5            \tall\t0.0330\n",
      "ndcg_cut_10           \tall\t0.0318\n",
      "ndcg_cut_15           \tall\t0.0320\n",
      "ndcg_cut_20           \tall\t0.0326\n",
      "ndcg_cut_30           \tall\t0.0322\n",
      "ndcg_cut_100          \tall\t0.0300\n",
      "ndcg_cut_200          \tall\t0.0302\n",
      "ndcg_cut_500          \tall\t0.0363\n",
      "ndcg_cut_1000         \tall\t0.0493\n",
      "map_cut_5             \tall\t0.0005\n",
      "map_cut_10            \tall\t0.0007\n",
      "map_cut_15            \tall\t0.0011\n",
      "map_cut_20            \tall\t0.0014\n",
      "map_cut_30            \tall\t0.0019\n",
      "map_cut_100           \tall\t0.0044\n",
      "map_cut_200           \tall\t0.0066\n",
      "map_cut_500           \tall\t0.0085\n",
      "map_cut_1000          \tall\t0.0094\n",
      "relative_P_5          \tall\t0.0350\n",
      "relative_P_10         \tall\t0.0350\n",
      "relative_P_15         \tall\t0.0350\n",
      "relative_P_20         \tall\t0.0375\n",
      "relative_P_30         \tall\t0.0392\n",
      "relative_P_100        \tall\t0.0348\n",
      "relative_P_200        \tall\t0.0364\n",
      "relative_P_500        \tall\t0.0429\n",
      "relative_P_1000       \tall\t0.0643\n",
      "success_1             \tall\t0.0500\n",
      "success_5             \tall\t0.0500\n",
      "success_10            \tall\t0.1250\n",
      "set_P                 \tall\t0.0181\n",
      "set_relative_P        \tall\t0.0643\n",
      "set_recall            \tall\t0.0643\n",
      "set_map               \tall\t0.0045\n",
      "set_F                 \tall\t0.0259\n",
      "num_nonrel_judged_ret \tall\t1034\n",
      "\n"
     ]
    }
   ],
   "source": [
    "path_to_qrel_file = \"../data/qrels/qrels-covid_d3_j0.5-3.txt\"\n",
    "path_to_result_file = f\"../data/output/{run_name}.txt\"\n",
    "output_result_path = f\"../data/results/{run_name}_trec_eval.txt\"\n",
    "os.system(\"trec_eval -c -m all_trec {} {} > {}\".format(path_to_qrel_file, path_to_result_file, output_result_path))\n",
    "with open(output_result_path, encoding='utf-8') as f:\n",
    "    print(f.read())"
   ]
  },
  {
   "cell_type": "markdown",
   "metadata": {},
   "source": [
    "Key Metrics,\n",
    "\n",
    "Solr `abstract` + `query` baseline results\n",
    "\n",
    "- `MAP` - 0.0094\n",
    "- `NDCG@10` - 0.0318\n",
    "- `P@5` - 0.0350\n",
    "- `R@1000` - 0.0643\n",
    "\n",
    "vs. TF-IDF `abstract` + `query` baseline results\n",
    "\n",
    "- `MAP` - 0.1069\n",
    "- `NDCG@10` - 0.2899\n",
    "- `P@5` - 0.38\n",
    "- `R@1000` - 0.3480\n",
    "\n",
    "Looks TF-IDF performs lot better compared to commercial text search engine, but has faster retrieval and index built time. \n",
    "\n",
    "Now let's do a final run with enhanced `abstract` and `query` + `question` run and compare that against TF-IDF results."
   ]
  },
  {
   "cell_type": "markdown",
   "metadata": {},
   "source": [
    "## b) enhanced `abstract`, `query` + `question`\n",
    "\n",
    "Here are the steps again to follow:\n",
    "\n",
    "1. Create new core in solr and connect to it\n",
    "2. Create enhanced dict\n",
    "3. Build index\n",
    "4. Combine query and question\n",
    "5. Write retrieved ranked results\n",
    "6. Evaluate using TREC eval"
   ]
  },
  {
   "cell_type": "code",
   "execution_count": 20,
   "metadata": {},
   "outputs": [
    {
     "name": "stdout",
     "output_type": "stream",
     "text": [
      "{\n",
      "  \"responseHeader\":{\n",
      "    \"zkConnected\":null,\n",
      "    \"status\":0,\n",
      "    \"QTime\":0,\n",
      "    \"params\":{\n",
      "      \"q\":\"{!lucene}*:*\",\n",
      "      \"distrib\":\"false\",\n",
      "      \"df\":\"_text_\",\n",
      "      \"rows\":\"10\",\n",
      "      \"echoParams\":\"all\",\n",
      "      \"rid\":\"-85\"}},\n",
      "  \"status\":\"OK\"}\n",
      "\n"
     ]
    }
   ],
   "source": [
    "solr2 = create_solr_connection(\"cord19_2020_05_19_title_abstract\", \"http://0.0.0.0:8983\")\n",
    "print(solr2.ping())"
   ]
  },
  {
   "cell_type": "code",
   "execution_count": 19,
   "metadata": {},
   "outputs": [
    {
     "data": {
      "text/plain": [
       "101395"
      ]
     },
     "execution_count": 19,
     "metadata": {},
     "output_type": "execute_result"
    }
   ],
   "source": [
    "title_abstract_dict = cord19['title+abstract'].to_dict()\n",
    "len(title_abstract_dict)"
   ]
  },
  {
   "cell_type": "code",
   "execution_count": 22,
   "metadata": {},
   "outputs": [
    {
     "name": "stdout",
     "output_type": "stream",
     "text": [
      "peak memory: 509.21 MiB, increment: 4.95 MiB\n",
      "CPU times: user 1.22 s, sys: 196 ms, total: 1.42 s\n",
      "Wall time: 28.2 s\n"
     ]
    }
   ],
   "source": [
    "# %%time\n",
    "# %memit build_solr_index(title_abstract_dict, solr2)"
   ]
  },
  {
   "cell_type": "markdown",
   "metadata": {},
   "source": [
    "**Cell Output**\n",
    "\n",
    "```\n",
    "peak memory: 509.21 MiB, increment: 4.95 MiB\n",
    "CPU times: user 1.22 s, sys: 196 ms, total: 1.42 s\n",
    "Wall time: 28.2 s\n",
    "```"
   ]
  },
  {
   "cell_type": "code",
   "execution_count": 24,
   "metadata": {},
   "outputs": [
    {
     "data": {
      "text/html": [
       "<div>\n",
       "<style scoped>\n",
       "    .dataframe tbody tr th:only-of-type {\n",
       "        vertical-align: middle;\n",
       "    }\n",
       "\n",
       "    .dataframe tbody tr th {\n",
       "        vertical-align: top;\n",
       "    }\n",
       "\n",
       "    .dataframe thead th {\n",
       "        text-align: right;\n",
       "    }\n",
       "</style>\n",
       "<table border=\"1\" class=\"dataframe\">\n",
       "  <thead>\n",
       "    <tr style=\"text-align: right;\">\n",
       "      <th></th>\n",
       "      <th>query</th>\n",
       "      <th>question</th>\n",
       "      <th>query+question</th>\n",
       "    </tr>\n",
       "    <tr>\n",
       "      <th>topic-id</th>\n",
       "      <th></th>\n",
       "      <th></th>\n",
       "      <th></th>\n",
       "    </tr>\n",
       "  </thead>\n",
       "  <tbody>\n",
       "    <tr>\n",
       "      <th>1</th>\n",
       "      <td>coronavirus origin</td>\n",
       "      <td>what is the origin of COVID-19</td>\n",
       "      <td>coronavirus origin what is the origin of COVID-19</td>\n",
       "    </tr>\n",
       "    <tr>\n",
       "      <th>2</th>\n",
       "      <td>coronavirus response to weather changes</td>\n",
       "      <td>how does the coronavirus respond to changes in...</td>\n",
       "      <td>coronavirus response to weather changes how do...</td>\n",
       "    </tr>\n",
       "    <tr>\n",
       "      <th>3</th>\n",
       "      <td>coronavirus immunity</td>\n",
       "      <td>will SARS-CoV2 infected people develop immunit...</td>\n",
       "      <td>coronavirus immunity will SARS-CoV2 infected p...</td>\n",
       "    </tr>\n",
       "    <tr>\n",
       "      <th>4</th>\n",
       "      <td>how do people die from the coronavirus</td>\n",
       "      <td>what causes death from Covid-19?</td>\n",
       "      <td>how do people die from the coronavirus what ca...</td>\n",
       "    </tr>\n",
       "    <tr>\n",
       "      <th>5</th>\n",
       "      <td>animal models of COVID-19</td>\n",
       "      <td>what drugs have been active against SARS-CoV o...</td>\n",
       "      <td>animal models of COVID-19 what drugs have been...</td>\n",
       "    </tr>\n",
       "  </tbody>\n",
       "</table>\n",
       "</div>"
      ],
      "text/plain": [
       "                                            query  \\\n",
       "topic-id                                            \n",
       "1                              coronavirus origin   \n",
       "2         coronavirus response to weather changes   \n",
       "3                            coronavirus immunity   \n",
       "4          how do people die from the coronavirus   \n",
       "5                       animal models of COVID-19   \n",
       "\n",
       "                                                   question  \\\n",
       "topic-id                                                      \n",
       "1                            what is the origin of COVID-19   \n",
       "2         how does the coronavirus respond to changes in...   \n",
       "3         will SARS-CoV2 infected people develop immunit...   \n",
       "4                          what causes death from Covid-19?   \n",
       "5         what drugs have been active against SARS-CoV o...   \n",
       "\n",
       "                                             query+question  \n",
       "topic-id                                                     \n",
       "1         coronavirus origin what is the origin of COVID-19  \n",
       "2         coronavirus response to weather changes how do...  \n",
       "3         coronavirus immunity will SARS-CoV2 infected p...  \n",
       "4         how do people die from the coronavirus what ca...  \n",
       "5         animal models of COVID-19 what drugs have been...  "
      ]
     },
     "execution_count": 24,
     "metadata": {},
     "output_type": "execute_result"
    }
   ],
   "source": [
    "topics['query+question'] = topics['query'] + ' ' + topics['question']\n",
    "topics.head()"
   ]
  },
  {
   "cell_type": "code",
   "execution_count": 27,
   "metadata": {},
   "outputs": [],
   "source": [
    "txt_cols = 'title_abstract_query_question'\n",
    "run_name = f'solr_baseline_{txt_cols}'\n",
    "query_txt_col = 'query+question'\n",
    "output_fpath = Path('../data/output') / f'{run_name}.txt'\n",
    "write_results(output_fpath, topics, query_txt_col, solr2, run_name)"
   ]
  },
  {
   "cell_type": "code",
   "execution_count": 28,
   "metadata": {},
   "outputs": [
    {
     "name": "stdout",
     "output_type": "stream",
     "text": [
      "runid                 \tall\tsolr_baseline_title_abstract_query_question\n",
      "num_q                 \tall\t40\n",
      "num_ret               \tall\t39581\n",
      "num_rel               \tall\t10001\n",
      "num_rel_ret           \tall\t595\n",
      "map                   \tall\t0.0102\n",
      "gm_map                \tall\t0.0003\n",
      "Rprec                 \tall\t0.0277\n",
      "bpref                 \tall\t0.0583\n",
      "recip_rank            \tall\t0.0634\n",
      "iprec_at_recall_0.00  \tall\t0.0816\n",
      "iprec_at_recall_0.10  \tall\t0.0310\n",
      "iprec_at_recall_0.20  \tall\t0.0234\n",
      "iprec_at_recall_0.30  \tall\t0.0174\n",
      "iprec_at_recall_0.40  \tall\t0.0027\n",
      "iprec_at_recall_0.50  \tall\t0.0000\n",
      "iprec_at_recall_0.60  \tall\t0.0000\n",
      "iprec_at_recall_0.70  \tall\t0.0000\n",
      "iprec_at_recall_0.80  \tall\t0.0000\n",
      "iprec_at_recall_0.90  \tall\t0.0000\n",
      "iprec_at_recall_1.00  \tall\t0.0000\n",
      "P_5                   \tall\t0.0450\n",
      "P_10                  \tall\t0.0425\n",
      "P_15                  \tall\t0.0383\n",
      "P_20                  \tall\t0.0437\n",
      "P_30                  \tall\t0.0425\n",
      "P_100                 \tall\t0.0385\n",
      "P_200                 \tall\t0.0323\n",
      "P_500                 \tall\t0.0210\n",
      "P_1000                \tall\t0.0149\n",
      "recall_5              \tall\t0.0008\n",
      "recall_10             \tall\t0.0015\n",
      "recall_15             \tall\t0.0022\n",
      "recall_20             \tall\t0.0035\n",
      "recall_30             \tall\t0.0055\n",
      "recall_100            \tall\t0.0164\n",
      "recall_200            \tall\t0.0269\n",
      "recall_500            \tall\t0.0442\n",
      "recall_1000           \tall\t0.0653\n",
      "infAP                 \tall\t0.0102\n",
      "gm_bpref              \tall\t0.0134\n",
      "Rprec_mult_0.20       \tall\t0.0375\n",
      "Rprec_mult_0.40       \tall\t0.0357\n",
      "Rprec_mult_0.60       \tall\t0.0321\n",
      "Rprec_mult_0.80       \tall\t0.0299\n",
      "Rprec_mult_1.00       \tall\t0.0277\n",
      "Rprec_mult_1.20       \tall\t0.0253\n",
      "Rprec_mult_1.40       \tall\t0.0250\n",
      "Rprec_mult_1.60       \tall\t0.0227\n",
      "Rprec_mult_1.80       \tall\t0.0214\n",
      "Rprec_mult_2.00       \tall\t0.0206\n",
      "utility               \tall\t-959.7750\n",
      "11pt_avg              \tall\t0.0142\n",
      "binG                  \tall\t0.0099\n",
      "G                     \tall\t0.0087\n",
      "ndcg                  \tall\t0.0496\n",
      "ndcg_rel              \tall\t0.0476\n",
      "Rndcg                 \tall\t0.0345\n",
      "ndcg_cut_5            \tall\t0.0376\n",
      "ndcg_cut_10           \tall\t0.0355\n",
      "ndcg_cut_15           \tall\t0.0332\n",
      "ndcg_cut_20           \tall\t0.0352\n",
      "ndcg_cut_30           \tall\t0.0337\n",
      "ndcg_cut_100          \tall\t0.0320\n",
      "ndcg_cut_200          \tall\t0.0312\n",
      "ndcg_cut_500          \tall\t0.0376\n",
      "ndcg_cut_1000         \tall\t0.0496\n",
      "map_cut_5             \tall\t0.0007\n",
      "map_cut_10            \tall\t0.0010\n",
      "map_cut_15            \tall\t0.0013\n",
      "map_cut_20            \tall\t0.0016\n",
      "map_cut_30            \tall\t0.0021\n",
      "map_cut_100           \tall\t0.0048\n",
      "map_cut_200           \tall\t0.0071\n",
      "map_cut_500           \tall\t0.0092\n",
      "map_cut_1000          \tall\t0.0102\n",
      "relative_P_5          \tall\t0.0450\n",
      "relative_P_10         \tall\t0.0425\n",
      "relative_P_15         \tall\t0.0383\n",
      "relative_P_20         \tall\t0.0437\n",
      "relative_P_30         \tall\t0.0425\n",
      "relative_P_100        \tall\t0.0386\n",
      "relative_P_200        \tall\t0.0369\n",
      "relative_P_500        \tall\t0.0443\n",
      "relative_P_1000       \tall\t0.0653\n",
      "success_1             \tall\t0.0250\n",
      "success_5             \tall\t0.0500\n",
      "success_10            \tall\t0.1250\n",
      "set_P                 \tall\t0.0177\n",
      "set_relative_P        \tall\t0.0653\n",
      "set_recall            \tall\t0.0653\n",
      "set_map               \tall\t0.0047\n",
      "set_F                 \tall\t0.0254\n",
      "num_nonrel_judged_ret \tall\t1041\n",
      "\n"
     ]
    }
   ],
   "source": [
    "path_to_qrel_file = \"../data/qrels/qrels-covid_d3_j0.5-3.txt\"\n",
    "path_to_result_file = f\"../data/output/{run_name}.txt\"\n",
    "output_result_path = f\"../data/results/{run_name}_trec_eval.txt\"\n",
    "os.system(\"trec_eval -c -m all_trec {} {} > {}\".format(path_to_qrel_file, path_to_result_file, output_result_path))\n",
    "with open(output_result_path, encoding='utf-8') as f:\n",
    "    print(f.read())"
   ]
  },
  {
   "cell_type": "markdown",
   "metadata": {},
   "source": [
    "Key Metrics,\n",
    "\n",
    "Solr `title+abstract` and `query+question` results,\n",
    "\n",
    "- `MAP` - 0.0102\n",
    "- `NDCG@10` - 0.0355\n",
    "- `P@5` - 0.0450\n",
    "- `R@1000` - 0.0653\n",
    "\n",
    "TF-IDF results `title+abstract` and `query+question` results,\n",
    "\n",
    "- `MAP` - 0.1517\n",
    "- `NDCG@10` - 0.4273\n",
    "- `P@5` - 0.0450\n",
    "- `R@1000` - 0.4296\n",
    "\n",
    "While there is slight improvements over previous results, compared against TF-IDF performance is poor but index build speed and memory usage is much lower."
   ]
  }
 ],
 "metadata": {
  "kernelspec": {
   "display_name": "Environment (conda_ir)",
   "language": "python",
   "name": "conda_ir"
  },
  "language_info": {
   "codemirror_mode": {
    "name": "ipython",
    "version": 3
   },
   "file_extension": ".py",
   "mimetype": "text/x-python",
   "name": "python",
   "nbconvert_exporter": "python",
   "pygments_lexer": "ipython3",
   "version": "3.9.0"
  }
 },
 "nbformat": 4,
 "nbformat_minor": 4
}
