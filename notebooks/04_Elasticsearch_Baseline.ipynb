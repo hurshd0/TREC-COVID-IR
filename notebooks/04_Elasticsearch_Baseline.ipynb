{
 "cells": [
  {
   "cell_type": "code",
   "execution_count": 4,
   "metadata": {},
   "outputs": [],
   "source": [
    "from elasticsearch import Elasticsearch\n",
    "from elasticsearch.helpers import bulk\n",
    "import json\n",
    "import time"
   ]
  },
  {
   "cell_type": "code",
   "execution_count": 5,
   "metadata": {},
   "outputs": [
    {
     "data": {
      "text/plain": [
       "<Elasticsearch([{}])>"
      ]
     },
     "execution_count": 5,
     "metadata": {},
     "output_type": "execute_result"
    }
   ],
   "source": [
    "es = Elasticsearch()\n",
    "es"
   ]
  },
  {
   "cell_type": "code",
   "execution_count": null,
   "metadata": {},
   "outputs": [],
   "source": []
  },
  {
   "cell_type": "code",
   "execution_count": null,
   "metadata": {},
   "outputs": [],
   "source": []
  },
  {
   "cell_type": "code",
   "execution_count": null,
   "metadata": {},
   "outputs": [],
   "source": []
  },
  {
   "cell_type": "code",
   "execution_count": null,
   "metadata": {},
   "outputs": [],
   "source": [
    "def create_index(es_client):\n",
    "    \"\"\" Creates an Elasticsearch index.\"\"\"\n",
    "    is_created = False\n",
    "    # Index settings\n",
    "    settings = {\n",
    "        \"settings\": {\n",
    "            \"number_of_shards\": 2,\n",
    "            \"number_of_replicas\": 1\n",
    "        },\n",
    "        \"mappings\": {\n",
    "            \"dynamic\": \"true\",\n",
    "            \"_source\": {\n",
    "            \"enabled\": \"true\"\n",
    "            },\n",
    "            \"properties\": {\n",
    "                \"body\": {\n",
    "                    \"type\": \"text\"\n",
    "                }\n",
    "            }\n",
    "        }\n",
    "    }\n",
    "    print('Creating `Question` index...')\n",
    "    try:\n",
    "        if es_client.indices.exists(INDEX_NAME):\n",
    "            es_client.indices.delete(index=INDEX_NAME, ignore=[404])\n",
    "        es_client.indices.create(index=INDEX_NAME, body=settings)\n",
    "        is_created = True\n",
    "        print('index `Question` created successfully.')\n",
    "    except Exception as ex:\n",
    "        print(str(ex))\n",
    "    finally:\n",
    "        return is_created\n",
    "    return is_created\n",
    "\n",
    "\n",
    "\n",
    "def index_data(es_client, data, BATCH_SIZE=100000):\n",
    "    \"\"\" Indexs all the rows in data.\"\"\"\n",
    "    docs = []\n",
    "    count = 0\n",
    "    for line in data:\n",
    "        js_object = {}\n",
    "        js_object['body'] = line\n",
    "        docs.append(js_object)\n",
    "        count += 1\n",
    "\n",
    "        if count % BATCH_SIZE == 0:\n",
    "            index_batch(docs)\n",
    "            docs = []\n",
    "            print('Indexed {} documents.'.format(count))\n",
    "    if docs:\n",
    "        index_batch(docs)\n",
    "        print('Indexed {} documents.'.format(count))\n",
    "\n",
    "    es_client.indices.refresh(index=INDEX_NAME)\n",
    "    print(\"Done indexing.\")\n",
    "\n",
    "\n",
    "def index_batch(docs):\n",
    "    \"\"\" Indexes a batch of documents.\"\"\"\n",
    "    requests = []\n",
    "    for i, doc in enumerate(docs):\n",
    "        request = doc\n",
    "        request[\"_op_type\"] = \"index\"\n",
    "        request[\"_index\"] = INDEX_NAME\n",
    "        request[\"body\"] = doc['body']\n",
    "        requests.append(request)\n",
    "    bulk(es_client, requests)\n",
    "\n",
    "def run_query_loop():\n",
    "    \"\"\" Asks user to enter a query to search.\"\"\"\n",
    "    while True:\n",
    "        try:\n",
    "            handle_query()\n",
    "        except KeyboardInterrupt:\n",
    "            break\n",
    "    return\n",
    "\n",
    "\n",
    "def handle_query():\n",
    "    \"\"\" Searches the user query and finds the best matches using elasticsearch.\"\"\"\n",
    "    query = input(\"Enter query: \")\n",
    "\n",
    "    search_start = time.time()\n",
    "    search = {\"size\": SEARCH_SIZE,\"query\": {\"match\": {\"body\": query}}}\n",
    "    print(search)\n",
    "    response = es_client.search(index=INDEX_NAME, body=json.dumps(search))\n",
    "    search_time = time.time() - search_start\n",
    "    print()\n",
    "    print(\"{} total hits.\".format(response[\"hits\"][\"total\"][\"value\"]))\n",
    "    print(\"search time: {:.2f} ms\".format(search_time * 1000))\n",
    "    for hit in response[\"hits\"][\"hits\"]:\n",
    "        print(\"id: {}, score: {}\".format(hit[\"_id\"], hit[\"_score\"]))\n",
    "        print(hit[\"_source\"])\n",
    "        print()\n"
   ]
  }
 ],
 "metadata": {
  "kernelspec": {
   "display_name": "Environment (conda_ir)",
   "language": "python",
   "name": "conda_ir"
  },
  "language_info": {
   "codemirror_mode": {
    "name": "ipython",
    "version": 3
   },
   "file_extension": ".py",
   "mimetype": "text/x-python",
   "name": "python",
   "nbconvert_exporter": "python",
   "pygments_lexer": "ipython3",
   "version": "3.9.0"
  }
 },
 "nbformat": 4,
 "nbformat_minor": 4
}
