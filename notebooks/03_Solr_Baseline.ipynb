{
 "cells": [
  {
   "cell_type": "markdown",
   "metadata": {},
   "source": [
    "# Solr Baseline"
   ]
  },
  {
   "cell_type": "markdown",
   "metadata": {},
   "source": [
    "The easiest way to setup and run ad hoc single instance Solr is to use Docker. So make sure Docker is installed and run following commands in terminal:\n",
    "\n",
    "```\n",
    "docker pull solr\n",
    "docker run -d -p 8983:8983 -t solr\n",
    "docker exec -it solr /bin/bash\n",
    "bin/solr create -c cord19_2020_05_19_abstract\n",
    "```\n",
    "\n",
    "Let's test it on `abstract` to get a baseline."
   ]
  },
  {
   "cell_type": "markdown",
   "metadata": {},
   "source": [
    "## Import necessary libs"
   ]
  },
  {
   "cell_type": "code",
   "execution_count": null,
   "metadata": {},
   "outputs": [],
   "source": [
    "import pysolr\n",
    "import json\n",
    "import os\n",
    "from pathlib import Path\n",
    "import pandas as pd\n",
    "from tqdm import tqdm"
   ]
  },
  {
   "cell_type": "markdown",
   "metadata": {},
   "source": [
    "## Verify Solr connection"
   ]
  },
  {
   "cell_type": "code",
   "execution_count": null,
   "metadata": {},
   "outputs": [],
   "source": [
    "def create_solr_connection(collection_name, solr_connection_url):\n",
    "    solr = pysolr.Solr(\n",
    "        \"{}/solr/{}\".format(solr_connection_url, collection_name),\n",
    "        always_commit=True,\n",
    "        timeout=10\n",
    "    )\n",
    "    return solr\n",
    "\n",
    "\n",
    "solr = create_solr_connection(\"cord19_2020_05_19_abstract\", \"http://0.0.0.0:8983\")\n",
    "print(solr.ping())"
   ]
  },
  {
   "cell_type": "markdown",
   "metadata": {},
   "source": [
    "## Load dataset"
   ]
  },
  {
   "cell_type": "code",
   "execution_count": null,
   "metadata": {},
   "outputs": [],
   "source": [
    "CORD19_PATH = Path('../data/input/trec_cord19_v0.csv')\n",
    "\n",
    "def load_cord19(input_fpath: Path, dtype: str = 'csv', cols_to_keep: list = ['cord_uid', 'abstract'], index_col = 'cord_uid') -> pd.DataFrame:\n",
    "    \"\"\"Loads CORD19 data and returns it as pandas data frame\n",
    "    \"\"\"\n",
    "    if dtype == 'csv':\n",
    "        df = pd.read_csv(input_fpath, quotechar='\"', index_col=index_col, usecols=cols_to_keep)\n",
    "        # for each column\n",
    "        for col in df.columns:\n",
    "            # check if the columns contains string data\n",
    "            if pd.api.types.is_string_dtype(df[col]):\n",
    "                df[col] = df[col].str.strip() # removes front and end white spaces\n",
    "                df[col] = df[col].str.replace('\\s{2,}', ' ') # remove double or more white spaces\n",
    "                \n",
    "        df = df.dropna()\n",
    "    return df\n",
    "\n",
    "\n",
    "cord19 = load_cord19(CORD19_PATH)\n",
    "cord19.head()"
   ]
  },
  {
   "cell_type": "code",
   "execution_count": null,
   "metadata": {},
   "outputs": [],
   "source": [
    "cord19.info()"
   ]
  },
  {
   "cell_type": "code",
   "execution_count": null,
   "metadata": {},
   "outputs": [],
   "source": [
    "abstracts_dict = cord19['abstract'].to_dict()\n",
    "len(abstracts_dict)"
   ]
  },
  {
   "cell_type": "markdown",
   "metadata": {},
   "source": [
    "## Build Solr Index"
   ]
  },
  {
   "cell_type": "code",
   "execution_count": null,
   "metadata": {},
   "outputs": [],
   "source": [
    "def build_solr_index(data_dict: dict, solr: pysolr.Solr):\n",
    "    solr_payloads = []\n",
    "    for uid, text in data_dict.items():\n",
    "        solr_payload = {\n",
    "            \"id\": uid,\n",
    "            \"text\": text\n",
    "        }\n",
    "        solr_payloads.append(solr_payload)\n",
    "    if len(solr_payloads) == 1000:\n",
    "        solr.add(solr_payloads)\n",
    "        solr_payloads = []\n",
    "\n",
    "build_solr_index(abstracts_dict, solr)"
   ]
  },
  {
   "cell_type": "markdown",
   "metadata": {},
   "source": [
    "## Load topics "
   ]
  },
  {
   "cell_type": "code",
   "execution_count": null,
   "metadata": {},
   "outputs": [],
   "source": [
    "def load_queries(input_fpath: Path, dtype: str = 'csv', cols_to_keep=['topic-id', 'query'], index_col=['topic-id']) -> pd.DataFrame:\n",
    "    \"\"\"Loads queries file and returns it as pandas data frame\n",
    "    \"\"\"\n",
    "    if dtype == 'csv':\n",
    "        df = pd.read_csv(input_fpath, quotechar='\"', index_col=index_col, usecols=cols_to_keep)\n",
    "        # for each column\n",
    "        for col in df.columns:\n",
    "            # check if the columns contains string data\n",
    "            if pd.api.types.is_string_dtype(df[col]):\n",
    "                df[col] = df[col].str.strip() # removes front and end white spaces\n",
    "                df[col] = df[col].str.replace('\\s{2,}', ' ') # remove double or more white spaces\n",
    "    return df\n",
    "\n",
    "QUERY_FPATH = Path('../data/CORD-19/CORD-19/topics-rnd3.csv')\n",
    "topics = load_queries(QUERY_FPATH)\n",
    "topics.head()"
   ]
  },
  {
   "cell_type": "code",
   "execution_count": null,
   "metadata": {},
   "outputs": [],
   "source": [
    "topics.info()"
   ]
  },
  {
   "cell_type": "code",
   "execution_count": null,
   "metadata": {},
   "outputs": [],
   "source": [
    "topics_dict = topics['query'].to_dict()\n",
    "len(topics_dict)"
   ]
  },
  {
   "cell_type": "markdown",
   "metadata": {},
   "source": [
    "### Test Query"
   ]
  },
  {
   "cell_type": "code",
   "execution_count": null,
   "metadata": {},
   "outputs": [],
   "source": [
    "topic_id = 1\n",
    "full_text_query = f\"Topic id: {topic_id}, Query: {topics_dict[topic_id]}\"\n",
    "print(full_text_query)\n",
    "\n",
    "solr_query_param = {\n",
    "    \"fl\": \"id, score\",\n",
    "    \"rows\": 10\n",
    "}\n",
    "results = solr.search(full_text_query, **solr_query_param).docs\n",
    "print(\"results\", \"\\n\".join(str(e) for e in results))"
   ]
  },
  {
   "cell_type": "code",
   "execution_count": null,
   "metadata": {},
   "outputs": [],
   "source": []
  }
 ],
 "metadata": {
  "kernelspec": {
   "display_name": "Environment (conda_python3)",
   "language": "python",
   "name": "conda_python3"
  },
  "language_info": {
   "codemirror_mode": {
    "name": "ipython",
    "version": 3
   },
   "file_extension": ".py",
   "mimetype": "text/x-python",
   "name": "python",
   "nbconvert_exporter": "python",
   "pygments_lexer": "ipython3",
   "version": "3.6.10"
  }
 },
 "nbformat": 4,
 "nbformat_minor": 4
}
